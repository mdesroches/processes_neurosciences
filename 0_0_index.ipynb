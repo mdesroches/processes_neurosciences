{
 "cells": [
  {
   "cell_type": "markdown",
   "metadata": {},
   "source": [
    "# TOC\n",
    "\n",
    "\n",
    "## Reproductible\n",
    "\n",
    "- [0_1 install](0_1_install.ipynb) : install all the tool + links\n",
    "      python, jupyter notebooks nbviewer\n",
    "      anaconda\n",
    "      git github\n",
    "- [0_2 git](0_2_git.ipynb) : git tuto\n",
    "      more git\n",
    "\n",
    "\n",
    "## Python\n",
    "\n",
    "- [1 first steps](1_python_1_first_steps.ipynb)\n",
    "  -  [script_fibonacci.py](script_fibonacci.py)\n",
    "- [2 edo](1_python_2_edo.ipynb)\n",
    "- [3 Linear Algebra](1_python_3_linearAlgebra.ipynb)\n",
    "- [3 SymPy](1_python_4_sympy.ipynb)\n",
    "\n",
    "## Poisson\n",
    "\n",
    "- [1 Poisson](2_poisson.ipynb)\n",
    "\n",
    "\n",
    "## Links\n",
    "\n",
    "- [links](z_links.ipynb)\n"
   ]
  },
  {
   "cell_type": "markdown",
   "metadata": {},
   "source": []
  },
  {
   "cell_type": "markdown",
   "metadata": {},
   "source": []
  },
  {
   "cell_type": "markdown",
   "metadata": {},
   "source": []
  },
  {
   "cell_type": "markdown",
   "metadata": {},
   "source": []
  },
  {
   "cell_type": "markdown",
   "metadata": {},
   "source": []
  },
  {
   "cell_type": "markdown",
   "metadata": {},
   "source": []
  },
  {
   "cell_type": "markdown",
   "metadata": {},
   "source": []
  },
  {
   "cell_type": "markdown",
   "metadata": {},
   "source": []
  }
 ],
 "metadata": {
  "kernelspec": {
   "display_name": "Python 3",
   "language": "python",
   "name": "python3"
  },
  "language_info": {
   "codemirror_mode": {
    "name": "ipython",
    "version": 3
   },
   "file_extension": ".py",
   "mimetype": "text/x-python",
   "name": "python",
   "nbconvert_exporter": "python",
   "pygments_lexer": "ipython3",
   "version": "3.7.3"
  }
 },
 "nbformat": 4,
 "nbformat_minor": 2
}
