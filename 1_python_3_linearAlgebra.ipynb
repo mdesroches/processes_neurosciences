{
 "cells": [
  {
   "cell_type": "markdown",
   "metadata": {},
   "source": [
    "# Linear Algebra\n",
    "\n",
    "- `Numpy` is a python package that can be used for Linear Algebra calculations. \n",
    "- We can use NumPy to create Vectors and Matrices in Python. \n",
    "- You don’t need any special packages to create Scalar, since it’s just a number.\n",
    "\n",
    "From [Exploring Linear Algebra with Python](https://mubaris.com/posts/linear-algebra/)."
   ]
  },
  {
   "cell_type": "code",
   "execution_count": 21,
   "metadata": {},
   "outputs": [],
   "source": [
    "import numpy as np"
   ]
  },
  {
   "cell_type": "markdown",
   "metadata": {},
   "source": [
    "### Scalars"
   ]
  },
  {
   "cell_type": "code",
   "execution_count": 31,
   "metadata": {},
   "outputs": [
    {
     "name": "stdout",
     "output_type": "stream",
     "text": [
      "(2, 3)\n",
      "(3, 2)\n"
     ]
    }
   ],
   "source": [
    "s = 32 # Scalar"
   ]
  },
  {
   "cell_type": "markdown",
   "metadata": {},
   "source": [
    "### Vectors \n",
    "\n",
    "To creat a vector simply surround a python list `([1,2,3])` with the `np.array` function:"
   ]
  },
  {
   "cell_type": "code",
   "execution_count": 35,
   "metadata": {},
   "outputs": [
    {
     "name": "stdout",
     "output_type": "stream",
     "text": [
      "[1 2 3]\n"
     ]
    }
   ],
   "source": [
    "a = np.array([1, 2, 3])  # Vectors\n",
    "b = np.array([3, 4, 5])  \n",
    "x_vector = np.array([1,2,3])\n",
    "print(x_vector)"
   ]
  },
  {
   "cell_type": "markdown",
   "metadata": {},
   "source": [
    "We could have done this by defining a python list and converting it to an array:"
   ]
  },
  {
   "cell_type": "code",
   "execution_count": 37,
   "metadata": {},
   "outputs": [
    {
     "name": "stdout",
     "output_type": "stream",
     "text": [
      "The list: [1, 2]\n",
      "Has length: 2\n",
      "The vector: [1 2]\n",
      "Has shape: (2,)\n"
     ]
    }
   ],
   "source": [
    "c_list = [1,2]\n",
    "print(\"The list:\",c_list)\n",
    "print(\"Has length:\", len(c_list))\n",
    "\n",
    "c_vector = np.array(c_list)\n",
    "print(\"The vector:\", c_vector)\n",
    "print(\"Has shape:\",c_vector.shape)"
   ]
  },
  {
   "cell_type": "code",
   "execution_count": 39,
   "metadata": {},
   "outputs": [
    {
     "name": "stdout",
     "output_type": "stream",
     "text": [
      "This is a list, not an array: [5, 6]\n",
      "<class 'list'>\n",
      "This is an array, not a list [5 6]\n",
      "<class 'numpy.ndarray'>\n"
     ]
    }
   ],
   "source": [
    "z = [5,6]\n",
    "print(\"This is a list, not an array:\",z)\n",
    "print(type(z))\n",
    "zarray = np.array(z)\n",
    "print(\"This is an array, not a list\",zarray)\n",
    "print(type(zarray))"
   ]
  },
  {
   "cell_type": "markdown",
   "metadata": {},
   "source": [
    "### Matrices"
   ]
  },
  {
   "cell_type": "code",
   "execution_count": 33,
   "metadata": {},
   "outputs": [
    {
     "name": "stdout",
     "output_type": "stream",
     "text": [
      "(2, 3)\n",
      "(3, 2)\n"
     ]
    }
   ],
   "source": [
    "A = np.array([           # Matrices\n",
    "    [3, 5, 7],\n",
    "    [4, 6, 8]\n",
    "])\n",
    "B = np.array([\n",
    "    [4, 7],\n",
    "    [5, 8],\n",
    "    [6, 9]\n",
    "])\n",
    "print(A.shape) # # Size of the Matrices\n",
    "print(B.shape) # (3, 2)"
   ]
  },
  {
   "cell_type": "markdown",
   "metadata": {},
   "source": [
    "### Addition Subtraction "
   ]
  },
  {
   "cell_type": "code",
   "execution_count": 23,
   "metadata": {},
   "outputs": [
    {
     "name": "stdout",
     "output_type": "stream",
     "text": [
      "[4 6 8]\n"
     ]
    }
   ],
   "source": [
    "c = a + b # Addition of vectors\n",
    "print(c)  "
   ]
  },
  {
   "cell_type": "code",
   "execution_count": 24,
   "metadata": {},
   "outputs": [
    {
     "name": "stdout",
     "output_type": "stream",
     "text": [
      "[[ 8 10 12]\n",
      " [ 5  7  9]]\n"
     ]
    }
   ],
   "source": [
    "X = np.array([\n",
    "    [1, 2, 3],\n",
    "    [4, 5, 6]\n",
    "])\n",
    "Y = np.array([\n",
    "    [7, 8, 9],\n",
    "    [1, 2, 3]\n",
    "])\n",
    "Z = X + Y # Addition of matrices\n",
    "print(Z) "
   ]
  },
  {
   "cell_type": "code",
   "execution_count": 25,
   "metadata": {},
   "outputs": [
    {
     "name": "stdout",
     "output_type": "stream",
     "text": [
      "[-2 -2 -2]\n"
     ]
    }
   ],
   "source": [
    "d = a - b\n",
    "print(d)"
   ]
  },
  {
   "cell_type": "code",
   "execution_count": 26,
   "metadata": {},
   "outputs": [
    {
     "name": "stdout",
     "output_type": "stream",
     "text": [
      "[[-6 -6 -6]\n",
      " [ 3  3  3]]\n"
     ]
    }
   ],
   "source": [
    "W = X - Y\n",
    "print(W) # [[-6, -6, -6], [3, 3, 3]]"
   ]
  },
  {
   "cell_type": "markdown",
   "metadata": {},
   "source": [
    "### Transpose of a Matrix\n",
    "\n",
    "Transpose of a Matrix is an operator which flips a matrix over its main diagonal like a mirror image. This can be done by calling `numpy.transpose` function or `T` method in `numpy`."
   ]
  },
  {
   "cell_type": "code",
   "execution_count": 17,
   "metadata": {},
   "outputs": [
    {
     "name": "stdout",
     "output_type": "stream",
     "text": [
      "[[1 4]\n",
      " [2 5]\n",
      " [3 6]]\n",
      "[[7 1]\n",
      " [8 2]\n",
      " [9 3]]\n"
     ]
    }
   ],
   "source": [
    "print(X.T) \n",
    "print(np.transpose(Y))"
   ]
  },
  {
   "cell_type": "code",
   "execution_count": 18,
   "metadata": {},
   "outputs": [
    {
     "name": "stdout",
     "output_type": "stream",
     "text": [
      "(2, 3)\n",
      "(3, 2)\n"
     ]
    }
   ],
   "source": [
    "print(X.shape)\n",
    "print(X.T.shape)"
   ]
  },
  {
   "cell_type": "code",
   "execution_count": 19,
   "metadata": {},
   "outputs": [
    {
     "name": "stdout",
     "output_type": "stream",
     "text": [
      "(2, 3)\n",
      "(3, 2)\n"
     ]
    }
   ],
   "source": [
    "print(Y.shape)\n",
    "print(np.transpose(Y).shape)"
   ]
  },
  {
   "cell_type": "markdown",
   "metadata": {},
   "source": [
    "###  product of arrays\n",
    "\n",
    "\n",
    "`NumPy` uses `numpy.dot` function for multiplication of both vectors and matrices. Matrix multiplication is not commutative.\n",
    "\n",
    "\n",
    "`numpy.dot(a, b)` Dot product of two arrays:\n",
    "\n",
    "- If both `a` and `b` are 1-D arrays, it is inner product of vectors (without complex conjugation).\n",
    "- If both `a` and `b` are 2-D arrays, it is matrix multiplication, but using `matmul` or `a @ b` is preferred.\n",
    "- If either `a` or `b` is 0-D (scalar), it is equivalent to multiply and using `numpy.multiply(a, b)` or `a*b` is preferred.\n",
    "- If `a` is an N-D array and `b` is a 1-D array, it is a sum product over the last axis of `a` and `b`.\n",
    "- If `a` is an N-D array and `b` is an M-D array (where M>=2), it is a sum product over the last axis of `a` and the second-to-last axis of `b`:\n",
    "\n"
   ]
  },
  {
   "cell_type": "code",
   "execution_count": 76,
   "metadata": {},
   "outputs": [
    {
     "name": "stdout",
     "output_type": "stream",
     "text": [
      "26\n",
      "26\n",
      "[[ 79 124]\n",
      " [ 94 148]]\n",
      "[[ 40  62  84]\n",
      " [ 47  73  99]\n",
      " [ 54  84 114]]\n",
      "[[ 78 130 182]\n",
      " [104 156 208]]\n",
      "(2, 2)\n",
      "(3, 3)\n",
      "[[ 78 130 182]\n",
      " [104 156 208]]\n"
     ]
    }
   ],
   "source": [
    "# Vectors\n",
    "e = np.dot(a, b)\n",
    "f = np.dot(b, a)\n",
    "print(e) # 26\n",
    "print(f) # 26\n",
    "\n",
    "# Matrices\n",
    "C = np.dot(A, B)\n",
    "C = A @ B # prefered\n",
    "D = np.dot(B, A)\n",
    "D = B @ A # prefered\n",
    "E = np.dot(e, A)\n",
    "E = e * A # prefered\n",
    "print(C) # [[79, 124], [94, 148]]\n",
    "print(D) # [[40, 62, 84], [47, 73, 99], [54, 84, 114]]\n",
    "print(E)\n",
    "\n",
    "# Size of C and D\n",
    "print(C.shape) # (2, 2)\n",
    "print(D.shape) # (3, 3)\n",
    "\n",
    "# Vectors and Matrices\n",
    "g = np.dot(A, b) # [64, 76]"
   ]
  },
  {
   "cell_type": "code",
   "execution_count": 45,
   "metadata": {},
   "outputs": [
    {
     "data": {
      "text/plain": [
       "array([[ 6, 10, 14],\n",
       "       [ 8, 12, 16]])"
      ]
     },
     "execution_count": 45,
     "metadata": {},
     "output_type": "execute_result"
    }
   ],
   "source": [
    "A*2  # = 2*A"
   ]
  },
  {
   "cell_type": "code",
   "execution_count": 56,
   "metadata": {},
   "outputs": [
    {
     "data": {
      "text/plain": [
       "array([[12, 25, 42],\n",
       "       [28, 48, 72]])"
      ]
     },
     "execution_count": 56,
     "metadata": {},
     "output_type": "execute_result"
    }
   ],
   "source": [
    "A * B.T  # term to term multiplication"
   ]
  },
  {
   "cell_type": "markdown",
   "metadata": {},
   "source": [
    "### Inverse\n",
    "\n",
    "Inverse operation only applies to square matrices. To compute inverse using numpy we need to use `numpy.linalg.inv` function"
   ]
  },
  {
   "cell_type": "code",
   "execution_count": 28,
   "metadata": {},
   "outputs": [
    {
     "name": "stdout",
     "output_type": "stream",
     "text": [
      "[[ 7. -3. -3.]\n",
      " [-1.  1.  0.]\n",
      " [-1.  0.  1.]]\n"
     ]
    }
   ],
   "source": [
    "P = np.array([\n",
    "    [1, 3, 3],\n",
    "    [1, 4, 3],\n",
    "    [1, 3, 4]\n",
    "])\n",
    "Pinv = np.linalg.inv(P)\n",
    "print(Pinv)"
   ]
  },
  {
   "cell_type": "markdown",
   "metadata": {},
   "source": [
    "### Special matrices"
   ]
  },
  {
   "cell_type": "code",
   "execution_count": 29,
   "metadata": {},
   "outputs": [],
   "source": [
    "# Identity Matrix of size (3, 3)\n",
    "I3 = np.identity(3)\n",
    "# Identity Matrix of size (2, 2)\n",
    "I2 = np.identity(2)\n",
    "\n",
    "# Zero Matrix\n",
    "Q = np.zeros((3, 2)) # Size (3, 2)\n",
    "R = np.zeros((5, 6)) # Size (5, 6)"
   ]
  },
  {
   "cell_type": "markdown",
   "metadata": {},
   "source": [
    "### Determinant"
   ]
  },
  {
   "cell_type": "code",
   "execution_count": 30,
   "metadata": {},
   "outputs": [
    {
     "name": "stdout",
     "output_type": "stream",
     "text": [
      "6.000000000000003\n",
      "-659.9999999999993\n"
     ]
    }
   ],
   "source": [
    "A = np.array([\n",
    "    [1, 3, 3],\n",
    "    [4, 5, 6],\n",
    "    [7, 8, 9]\n",
    "])\n",
    "B = np.array([\n",
    "    [34, 54],\n",
    "    [67, 87]\n",
    "])\n",
    "\n",
    "adet = np.linalg.det(A)\n",
    "bdet = np.linalg.det(B)\n",
    "\n",
    "print(adet) # 6.0\n",
    "print(bdet) # -660.0"
   ]
  },
  {
   "cell_type": "markdown",
   "metadata": {},
   "source": [
    "### Rank"
   ]
  },
  {
   "cell_type": "code",
   "execution_count": 84,
   "metadata": {},
   "outputs": [
    {
     "name": "stdout",
     "output_type": "stream",
     "text": [
      "[[1. 1. 1.]\n",
      " [1. 1. 1.]\n",
      " [1. 1. 1.]\n",
      " [1. 1. 1.]]\n"
     ]
    },
    {
     "name": "stderr",
     "output_type": "stream",
     "text": [
      "/Users/campillo/anaconda3/lib/python3.7/site-packages/ipykernel_launcher.py:3: VisibleDeprecationWarning: `rank` is deprecated; use the `ndim` attribute or function instead. To find the rank of a matrix see `numpy.linalg.matrix_rank`.\n",
      "  This is separate from the ipykernel package so we can avoid doing imports until\n"
     ]
    },
    {
     "data": {
      "text/plain": [
       "2"
      ]
     },
     "execution_count": 84,
     "metadata": {},
     "output_type": "execute_result"
    }
   ],
   "source": [
    "A = np.ones((4,3))\n",
    "print(A)\n",
    "np.rank(A)"
   ]
  },
  {
   "cell_type": "code",
   "execution_count": 85,
   "metadata": {},
   "outputs": [
    {
     "data": {
      "text/plain": [
       "2"
      ]
     },
     "execution_count": 85,
     "metadata": {},
     "output_type": "execute_result"
    }
   ],
   "source": [
    "A.ndim"
   ]
  },
  {
   "cell_type": "markdown",
   "metadata": {},
   "source": [
    "### Solve `Ax = b`\n"
   ]
  },
  {
   "cell_type": "code",
   "execution_count": 86,
   "metadata": {},
   "outputs": [],
   "source": [
    "from numpy.linalg import solve\n",
    "A = np.array([[1,2],[3,4]])\n",
    "b = np.array([10, 20])\n",
    "x = solve(A,b)"
   ]
  },
  {
   "cell_type": "code",
   "execution_count": 87,
   "metadata": {},
   "outputs": [
    {
     "data": {
      "text/plain": [
       "array([0., 0.])"
      ]
     },
     "execution_count": 87,
     "metadata": {},
     "output_type": "execute_result"
    }
   ],
   "source": [
    "A @ x - b"
   ]
  },
  {
   "cell_type": "markdown",
   "metadata": {},
   "source": [
    "### eigen values and vectors"
   ]
  },
  {
   "cell_type": "code",
   "execution_count": 90,
   "metadata": {},
   "outputs": [
    {
     "data": {
      "text/plain": [
       "(array([-0.37228132,  5.37228132]), array([[-0.82456484, -0.41597356],\n",
       "        [ 0.56576746, -0.90937671]]))"
      ]
     },
     "execution_count": 90,
     "metadata": {},
     "output_type": "execute_result"
    }
   ],
   "source": [
    "from numpy.linalg import eig\n",
    "A = np.array([[1,2],[3,4]])\n",
    "eig(A)"
   ]
  },
  {
   "cell_type": "markdown",
   "metadata": {},
   "source": [
    "The eig returns two tuples: the first one is the eigen values and the second one is a matrix whose columns are the two eigen vectors.\n",
    "\n",
    "We can unpack the tuples:"
   ]
  },
  {
   "cell_type": "code",
   "execution_count": 91,
   "metadata": {},
   "outputs": [
    {
     "name": "stdout",
     "output_type": "stream",
     "text": [
      "[-0.37228132  5.37228132]\n",
      "[[-0.82456484 -0.41597356]\n",
      " [ 0.56576746 -0.90937671]]\n"
     ]
    }
   ],
   "source": [
    "eigen_val, eigen_vec = eig(A)  # unpack the tuples\n",
    "print(eigen_val)\n",
    "print(eigen_vec)"
   ]
  },
  {
   "cell_type": "code",
   "execution_count": null,
   "metadata": {},
   "outputs": [],
   "source": []
  },
  {
   "cell_type": "code",
   "execution_count": null,
   "metadata": {},
   "outputs": [],
   "source": []
  }
 ],
 "metadata": {
  "kernelspec": {
   "display_name": "Python 3",
   "language": "python",
   "name": "python3"
  },
  "language_info": {
   "codemirror_mode": {
    "name": "ipython",
    "version": 3
   },
   "file_extension": ".py",
   "mimetype": "text/x-python",
   "name": "python",
   "nbconvert_exporter": "python",
   "pygments_lexer": "ipython3",
   "version": "3.7.3"
  }
 },
 "nbformat": 4,
 "nbformat_minor": 2
}
