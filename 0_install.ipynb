{
 "cells": [
  {
   "cell_type": "markdown",
   "metadata": {
    "slideshow": {
     "slide_type": "slide"
    }
   },
   "source": [
    "# For monday\n",
    "\n",
    "*You can try to install Python & Jupyter thru Anaconda as explained here, but if it's a bit fuzzy for you, we gonna do it Monday anyway :-)*"
   ]
  },
  {
   "cell_type": "markdown",
   "metadata": {
    "slideshow": {
     "slide_type": "slide"
    }
   },
   "source": [
    "# Installing Python & Jupyter\n",
    "\n",
    "We will use Python 3 and Jupyter Notebooks. \n",
    "\n",
    "- See the [Jupyter Notebook Quickstart](https://jupyter.readthedocs.io/en/latest/content-quickstart.html)\n",
    "\n",
    "- Even if there is a way to use [Jupyter without any installation](https://jupyter.readthedocs.io/en/latest/tryjupyter.html), we recommand to [install Jupyter](https://jupyter.readthedocs.io/en/latest/install.html). For new users, **we highly recommend [installing Anaconda](https://www.anaconda.com/distribution/)**\n",
    "    - video for [windows](https://www.youtube.com/watch?v=5mDYijMfSzs)\n",
    "    - video for [mac os-x](https://www.youtube.com/watch?v=daVgEXjv6DE)\n",
    "    - video for [linux](https://www.youtube.com/watch?v=DY0DB_NwEu0)\n",
    "  \n",
    "[Anaconda](https://en.wikipedia.org/wiki/Anaconda_(Python_distribution)) is a free and open-source distribution of the Python and R programming languages for scientific computing. It aims to simplify package management and deployment. Package versions are managed by the package management system [conda](https://en.wikipedia.org/wiki/Conda_(package_manager)).\n",
    "\n",
    "Now you can launch Jupyter from the Anaconda-Navigator."
   ]
  },
  {
   "cell_type": "markdown",
   "metadata": {
    "slideshow": {
     "slide_type": "slide"
    }
   },
   "source": [
    "### First step in Python\n",
    "\n",
    "- On [python.org](https://www.python.org) you have all the [documentation](https://www.python.org/doc/) including the complete [documentation of Python 3.7](https://docs.python.org/3/). \n",
    "- You can also watch a [7 minutes](https://www.youtube.com/watch?v=jZ952vChhuI) or a  [30 minutes](https://www.youtube.com/watch?v=HW29067qVWk) video on YT."
   ]
  },
  {
   "cell_type": "markdown",
   "metadata": {
    "slideshow": {
     "slide_type": "slide"
    }
   },
   "source": [
    "### Jupyter notebooks\n",
    "\n",
    "- [Jupyter](https://jupyter.org) is a very cool project created to \"develop open-source software, open-standards, and services for interactive computing across dozens of programming languages\" (mainly  Julia, Python and R).\n",
    "\n",
    "- Jupyter Notebook (formerly IPython Notebooks) is a web-based interactive computational environment for creating Jupyter notebook documents. \n",
    "\n",
    "- A Jupyter notebook contains a sequence of cell that can contain code (1 langague per notebook) and cells that contains text in [markdown](https://jupyter-notebook.readthedocs.io/en/stable/examples/Notebook/Working%20With%20Markdown%20Cells.html). The text cells can contain latex expressions. \n",
    "\n",
    "- [A gallery of interesting Jupyter Notebooks](https://github.com/jupyter/jupyter/wiki/A-gallery-of-interesting-Jupyter-Notebooks) by [Serena Bonaretti](https://sbonaretti.github.io)."
   ]
  },
  {
   "cell_type": "markdown",
   "metadata": {
    "slideshow": {
     "slide_type": "slide"
    }
   },
   "source": [
    "# Advanced environment\n",
    "\n",
    "How to develop digital experiments that are **clear**, **documented**, **reproducible**, **easy to access** and **share**, **perennial** ? One solution:\n",
    "\n",
    "\n",
    "- code repositories like [github](https://github.com)\n",
    "- Jupyter Notebooks and dedicated tools like [nbviewer](https://nbviewer.jupyter.org) which allows to share Jupyter Notebooks. \n",
    "\n",
    "See for exemple:\n",
    "\n",
    "- [Sharing and Publishing Jupyter Notebooks](https://reproducible-science-curriculum.github.io/publication-RR-Jupyter/aio.html) \n",
    "- [my github deposit](https://github.com/fabiencampillo) and my notebooks with [nbviewer](https://nbviewer.jupyter.org/github/fabiencampillo/)\n",
    "\n",
    "These tools are truly powerful and enjoyable to use. This field is evolving very rapidly.\n",
    "Have a look at the [Julia](https://julialang.org) and tools like [mybinder](https://mybinder.org)."
   ]
  },
  {
   "cell_type": "markdown",
   "metadata": {
    "slideshow": {
     "slide_type": "slide"
    }
   },
   "source": [
    "### Git and Github\n",
    "\n",
    "I don't understand git but I use it... for notebooks, codes (Python, matlab etc), and latex. To install the wohola you can use that [guide](https://rogerdudler.github.io/git-guide/), you have to install : \n",
    "- [Installing git](https://git-scm.com/book/en/v2/Getting-Started-Installing-Git) on your computer (see alsoe the [guide](https://rogerdudler.github.io/git-guide/))\n",
    "- open an account on [github](https://github.com)\n",
    "- create a new repository (from scratch or by copying an existing repository) \n",
    "- clone the repository (you can copy the command from the repo page) on you local computer\n",
    "\n",
    "Then, see again the [guide](https://rogerdudler.github.io/git-guide/) to learn how to use git. Git workflow could be simple and based on few commands: see [here](https://www.freecodecamp.org/news/learn-the-basics-of-git-in-under-10-minutes-da548267cc91/) or [there](https://blog.prototypr.io/git-for-beginners-12-commands-you-need-to-know-e084cce9cc94).\n",
    "\n",
    "\n",
    "Some links:\n",
    "\n",
    "- They are many [git interface](https://git-scm.com/downloads/guis), but using [git in a shell window](https://www.freecodecamp.org/news/learn-the-basics-of-git-in-under-10-minutes-da548267cc91/) is also very helpful.\n",
    "\n",
    "- [Sharing Jupyter Notebooks using GitHub](https://reproducible-science-curriculum.github.io/sharing-RR-Jupyter/01-sharing-github/)\n",
    "\n",
    "- [Git: The reproducibility tool scientists love to hate](http://blogs.nature.com/naturejobs/2018/06/11/git-the-reproducibility-tool-scientists-love-to-hate/)\n",
    "\n",
    "- Tutorials [here](https://jules32.github.io/2016-07-12-Oxford/git/) and [here](https://swcarpentry.github.io/git-novice/)."
   ]
  },
  {
   "cell_type": "markdown",
   "metadata": {
    "slideshow": {
     "slide_type": "slide"
    }
   },
   "source": [
    "### Tools associated with Jupyter notebook\n",
    "\n",
    "- [nbviewer](https://nbviewer.jupyter.org/github/fabiencampillo/): your notebooks in github can be viewed as slides: see this notebook [under nbviewer](https://nbviewer.jupyter.org/github/fabiencampillo/processes_neurosciences/blob/master/0_install.ipynb?flush_cache=true) or  [as slides](https://nbviewer.jupyter.org/format/slides/github/fabiencampillo/processes_neurosciences/blob/master/0_install.ipynb?flush_cache=true?)\n",
    "- [Sharing and Publishing Jupyter Notebooks](https://reproducible-science-curriculum.github.io/publication-RR-Jupyter/aio.html)\n",
    "- [binder](https://mybinder.org): Turn a Git repo into a collection of interactive notebooks (well it's a bit slow)\n",
    "  "
   ]
  }
 ],
 "metadata": {
  "anaconda-cloud": {},
  "celltoolbar": "Diaporama",
  "kernelspec": {
   "display_name": "Python 3",
   "language": "python",
   "name": "python3"
  },
  "language_info": {
   "codemirror_mode": {
    "name": "ipython",
    "version": 3
   },
   "file_extension": ".py",
   "mimetype": "text/x-python",
   "name": "python",
   "nbconvert_exporter": "python",
   "pygments_lexer": "ipython3",
   "version": "3.7.1"
  },
  "latex_envs": {
   "LaTeX_envs_menu_present": true,
   "autoclose": false,
   "autocomplete": true,
   "bibliofile": "biblio.bib",
   "cite_by": "apalike",
   "current_citInitial": 1,
   "eqLabelWithNumbers": true,
   "eqNumInitial": 1,
   "hotkeys": {
    "equation": "Ctrl-E",
    "itemize": "Ctrl-I"
   },
   "labels_anchors": false,
   "latex_user_defs": false,
   "report_style_numbering": false,
   "user_envs_cfg": false
  }
 },
 "nbformat": 4,
 "nbformat_minor": 1
}
