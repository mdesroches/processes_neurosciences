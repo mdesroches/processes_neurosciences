{
 "cells": [
  {
   "cell_type": "markdown",
   "metadata": {
    "slideshow": {
     "slide_type": "slide"
    }
   },
   "source": [
    "# GIT\n",
    "\n",
    "## Github\n",
    "\n",
    "Open an account at [github](https://github.com)"
   ]
  },
  {
   "cell_type": "markdown",
   "metadata": {
    "slideshow": {
     "slide_type": "slide"
    }
   },
   "source": [
    "## Git by hands\n",
    "\n",
    "git [the simple guide](https://rogerdudler.github.io/git-guide/)\n",
    "just a simple guide for getting started with git. no deep shit ;)"
   ]
  },
  {
   "cell_type": "markdown",
   "metadata": {
    "slideshow": {
     "slide_type": "slide"
    }
   },
   "source": [
    "## Git by GUI\n",
    "\n",
    "\n",
    "[What are the best visual git GUIs?](https://www.slant.co/topics/4985/~visual-git-guis)\n",
    "\n",
    "- [gitkraken](https://www.gitkraken.com)\n",
    "- [smartgit](https://www.syntevo.com/smartgit/)"
   ]
  }
 ],
 "metadata": {
  "celltoolbar": "Diaporama",
  "kernelspec": {
   "display_name": "Python 3",
   "language": "python",
   "name": "python3"
  },
  "language_info": {
   "codemirror_mode": {
    "name": "ipython",
    "version": 3
   },
   "file_extension": ".py",
   "mimetype": "text/x-python",
   "name": "python",
   "nbconvert_exporter": "python",
   "pygments_lexer": "ipython3",
   "version": "3.7.3"
  }
 },
 "nbformat": 4,
 "nbformat_minor": 2
}
