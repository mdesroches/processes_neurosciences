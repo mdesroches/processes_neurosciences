{
 "cells": [
  {
   "cell_type": "markdown",
   "metadata": {},
   "source": [
    "# SDE\n",
    "\n",
    "\n",
    "\n",
    "- from [IPython Cookbook, Second Edition (2018)](https://ipython-books.github.io)\n",
    "  - [simulating-a-brownian-motion](https://ipython-books.github.io/133-simulating-a-brownian-motion/)\n",
    "  - [simulating-a-stochastic-differential-equation](https://ipython-books.github.io/134-simulating-a-stochastic-differential-equation/)\n",
    "\n",
    "-  [sdeint 0.2.1](https://pypi.org/project/sdeint/) [github](https://github.com/mattja/sdeint/)\n",
    "\n"
   ]
  },
  {
   "cell_type": "markdown",
   "metadata": {},
   "source": [
    "# Notebooks\n",
    "\n",
    "- [Brownian motion](https://github.com/mo-mo-666/stochastic-processes/blob/master/brownian-motion.ipynb) by [mo-mo-666](https://github.com/mo-mo-666)\n",
    "\n",
    "\n",
    "\n"
   ]
  },
  {
   "cell_type": "code",
   "execution_count": null,
   "metadata": {},
   "outputs": [],
   "source": []
  }
 ],
 "metadata": {
  "kernelspec": {
   "display_name": "Python 3",
   "language": "python",
   "name": "python3"
  },
  "language_info": {
   "codemirror_mode": {
    "name": "ipython",
    "version": 3
   },
   "file_extension": ".py",
   "mimetype": "text/x-python",
   "name": "python",
   "nbconvert_exporter": "python",
   "pygments_lexer": "ipython3",
   "version": "3.7.3"
  }
 },
 "nbformat": 4,
 "nbformat_minor": 2
}
