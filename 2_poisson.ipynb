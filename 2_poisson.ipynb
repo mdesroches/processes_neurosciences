{
 "cells": [
  {
   "cell_type": "markdown",
   "metadata": {},
   "source": [
    "# Poisson Spike\n",
    "\n",
    "Some interesting notebooks\n",
    "\n",
    "- [Simple point process simulation in python](https://github.com/MatthewDaws/PointProcesses) by [MatthewDaws](https://github.com/MatthewDaws/PointProcesses/commits?author=MatthewDaws), including:\n",
    "  - [Point processes](https://github.com/MatthewDaws/PointProcesses/blob/master/Point%20processes.ipynb)\n",
    "  - [Temporal points processes](https://github.com/MatthewDaws/PointProcesses/blob/master/Temporal%20points%20processes.ipynb)\n",
    "\n",
    "- in [Data-Analysis](https://github.com/WillKoehrsen/Data-Analysis) by [Will Koehrsen](https://github.com/WillKoehrsen):\n",
    "  - the [Introduction: Poisson Process and Poisson Distribution](https://github.com/WillKoehrsen/Data-Analysis/blob/master/poisson/poisson.ipynb)\n",
    "  \n"
   ]
  },
  {
   "cell_type": "markdown",
   "metadata": {},
   "source": [
    "## hodgkin–huxley model\n",
    "\n",
    "\n",
    "Some notebooks:\n",
    "- [Hodgkin Huxley Model](https://github.com/amasky/hodgkin-huxley-model) by [Amasky](https://github.com/amasky/hodgkin-huxley-model/commits?author=amasky)\n",
    "\n",
    "\n",
    "## Packages\n",
    "\n",
    "connected to neurosciences\n",
    "\n",
    "- [Nengo](https://www.nengo.ai/nengo/) a Python library for building and simulating large-scale neural models developed by a [large community](https://www.nengo.ai/people.html)\n",
    "- [Brian](http://briansimulator.org): a simulator for spiking neural networks in Python, by [R. Brette et al](http://briansimulator.org/team/)\n",
    "   - [install](https://brian2.readthedocs.io/en/stable/introduction/install.html) : Brian 2 is not part of the main Anaconda distribution, but built using the community-maintained conda-forge project. You will therefore have to to install it from the conda-forge channel:  \n",
    "   > conda install -c conda-forge brian2\n",
    "-  [PySpike](http://mariomulansky.github.io/PySpike/) for the numerical analysis of spike train similarity [github](https://github.com/mariomulansky/PySpike) by [Mario Mulansky](http://www.mariomulansky.de) and [Thomas Kreuz](http://wwwold.fi.isc.cnr.it/users/thomas.kreuz/).\n",
    "\n",
    "connected to probability\n",
    "\n",
    "- [Symbulate](https://github.com/dlsun/symbulate)  is a Python package which provides a user friendly framework for specifying and conducting simulations from probability models. See [paper](https://www.tandfonline.com/doi/full/10.1080/10691898.2019.1600387).\n",
    "- [Python class for Multivariate Hawkes Processes](https://github.com/stmorse/hawkes) by [Steve Morse](https://github.com/stmorse)\n",
    "\n",
    "## Books\n",
    "\n",
    "- [Python in Neuroscience](https://books.google.fr/books/about/Python_in_Neuroscience.html?id=AQjmCgAAQBAJ&redir_esc=y) by Eilif Muller et al 2015.\n",
    "\n",
    "\n"
   ]
  },
  {
   "cell_type": "markdown",
   "metadata": {},
   "source": [
    "# Simulation of Poisson\n",
    "\n",
    "\n",
    "### Method 1\n",
    "\n",
    "Euler like approximation with time step \n"
   ]
  },
  {
   "cell_type": "code",
   "execution_count": 8,
   "metadata": {},
   "outputs": [],
   "source": [
    "import numpy as np\n",
    "#import brian2 as b2\n",
    "import matplotlib.pyplot as plt"
   ]
  },
  {
   "cell_type": "code",
   "execution_count": 9,
   "metadata": {},
   "outputs": [],
   "source": [
    "N = 50 # step\n",
    "lambdas = [1, 3, 5]\n",
    "X_T = [np.random.poisson(lam, size=N) for lam in lambdas]\n",
    "S = [[np.sum(X[0:i]) for i in range(N)] for X in X_T]\n",
    "X = np.linspace(0, N, N)"
   ]
  },
  {
   "cell_type": "code",
   "execution_count": 10,
   "metadata": {},
   "outputs": [
    {
     "data": {
      "image/png": "[encoded data removed]",
      "text/plain": [
       "<Figure size 432x288 with 1 Axes>"
      ]
     },
     "metadata": {
      "needs_background": "light"
     },
     "output_type": "display_data"
    }
   ],
   "source": [
    "graphs = [plt.step(X, S[i], label=\"Lambda = %d\"%lambdas[i])[0] for i in range(len(lambdas))]\n",
    "plt.legend(handles=graphs, loc=2)\n",
    "plt.title(\"Poisson Process\")\n",
    "plt.ylim(0)\n",
    "plt.xlim(0)\n",
    "plt.show()"
   ]
  },
  {
   "cell_type": "markdown",
   "metadata": {},
   "source": [
    "### Method 2\n",
    "\n",
    "Simulation of interevent times.\n"
   ]
  },
  {
   "cell_type": "code",
   "execution_count": 11,
   "metadata": {},
   "outputs": [],
   "source": [
    "rate = 20.\n",
    "y = np.cumsum(np.random.exponential(1./rate, size=int(rate)))"
   ]
  },
  {
   "cell_type": "code",
   "execution_count": 12,
   "metadata": {},
   "outputs": [
    {
     "data": {
      "image/png": "[encoded data removed]",
      "text/plain": [
       "<Figure size 432x288 with 1 Axes>"
      ]
     },
     "metadata": {
      "needs_background": "light"
     },
     "output_type": "display_data"
    }
   ],
   "source": [
    "plt.vlines(y, 0, 1)\n",
    "plt.show()"
   ]
  },
  {
   "cell_type": "code",
   "execution_count": 13,
   "metadata": {},
   "outputs": [
    {
     "data": {
      "image/png": "[encoded data removed]",
      "text/plain": [
       "<Figure size 432x288 with 1 Axes>"
      ]
     },
     "metadata": {
      "needs_background": "light"
     },
     "output_type": "display_data"
    }
   ],
   "source": [
    "xmin = range(len(y))\n",
    "plt.step(y, xmin)\n",
    "plt.show()"
   ]
  },
  {
   "cell_type": "markdown",
   "metadata": {},
   "source": [
    "\n",
    "# Other notebooks\n",
    "\n",
    "- [exercises](https://github.com/ruslan-kl/neuromath/blob/master/chapter_1.ipynb)  from the book \"Theoretical Neuroscience. Computational and Mathematical Modeling of Neural Systems\" (Dayan & Abbott)\n",
    "\n",
    "- [poisson process](https://github.com/mo-mo-666/stochastic-processes/blob/master/poisson-process.ipynb) by [mo-mo-666](https://github.com/mo-mo-666) \n",
    "\n",
    "- [compound poisson process](https://github.com/mo-mo-666/stochastic-processes/blob/master/compound-poisson-process.ipynb) by [mo-mo-666](https://github.com/mo-mo-666) \n"
   ]
  },
  {
   "cell_type": "code",
   "execution_count": null,
   "metadata": {},
   "outputs": [],
   "source": []
  }
 ],
 "metadata": {
  "kernelspec": {
   "display_name": "Python 3",
   "language": "python",
   "name": "python3"
  },
  "language_info": {
   "codemirror_mode": {
    "name": "ipython",
    "version": 3
   },
   "file_extension": ".py",
   "mimetype": "text/x-python",
   "name": "python",
   "nbconvert_exporter": "python",
   "pygments_lexer": "ipython3",
   "version": "3.7.3"
  }
 },
 "nbformat": 4,
 "nbformat_minor": 2
}
