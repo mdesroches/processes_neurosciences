{
 "cells": [
  {
   "cell_type": "markdown",
   "metadata": {},
   "source": [
    "# Poisson Spike\n",
    "\n",
    "Some interesting notebooks\n",
    "\n",
    "- [Simple point process simulation in python](https://github.com/MatthewDaws/PointProcesses) by [MatthewDaws](https://github.com/MatthewDaws/PointProcesses/commits?author=MatthewDaws), including:\n",
    "  - [Point processes](https://github.com/MatthewDaws/PointProcesses/blob/master/Point%20processes.ipynb)\n",
    "  - [Temporal points processes](https://github.com/MatthewDaws/PointProcesses/blob/master/Temporal%20points%20processes.ipynb)\n",
    "\n",
    "- in [Data-Analysis](https://github.com/WillKoehrsen/Data-Analysis) by [Will Koehrsen](https://github.com/WillKoehrsen):\n",
    "  - the [Introduction: Poisson Process and Poisson Distribution](https://github.com/WillKoehrsen/Data-Analysis/blob/master/poisson/poisson.ipynb)\n",
    "  \n",
    "- in []() by []()\n"
   ]
  },
  {
   "cell_type": "markdown",
   "metadata": {},
   "source": [
    "## hodgkin–huxley model\n",
    "\n",
    "\n",
    "Some notebooks:\n",
    "- [Hodgkin Huxley Model](https://github.com/amasky/hodgkin-huxley-model) by [Amasky](https://github.com/amasky/hodgkin-huxley-model/commits?author=amasky)\n",
    "\n",
    "\n",
    "## Packages\n",
    "\n",
    "connected to neurosciences\n",
    "\n",
    "- [Nengo](https://www.nengo.ai/nengo/) a Python library for building and simulating large-scale neural models developed by a [large community](https://www.nengo.ai/people.html)\n",
    "- [Brian](http://briansimulator.org): a simulator for spiking neural networks in Python, by [R. Brette et al](http://briansimulator.org/team/)\n",
    "   - [install](https://brian2.readthedocs.io/en/stable/introduction/install.html) : Brian 2 is not part of the main Anaconda distribution, but built using the community-maintained conda-forge project. You will therefore have to to install it from the conda-forge channel:  \n",
    "   > conda install -c conda-forge brian2\n",
    "-  [PySpike](http://mariomulansky.github.io/PySpike/) for the numerical analysis of spike train similarity [github](https://github.com/mariomulansky/PySpike) by [Mario Mulansky](http://www.mariomulansky.de) and [Thomas Kreuz](http://wwwold.fi.isc.cnr.it/users/thomas.kreuz/).\n",
    "\n",
    "connected to probability\n",
    "\n",
    "- [Symbulate](https://github.com/dlsun/symbulate)  is a Python package which provides a user friendly framework for specifying and conducting simulations from probability models. See [paper](https://www.tandfonline.com/doi/full/10.1080/10691898.2019.1600387).\n",
    "- [Python class for Multivariate Hawkes Processes](https://github.com/stmorse/hawkes) by [Steve Morse](https://github.com/stmorse)\n",
    "\n",
    "## Books\n",
    "\n",
    "- [Python in Neuroscience](https://books.google.fr/books/about/Python_in_Neuroscience.html?id=AQjmCgAAQBAJ&redir_esc=y) by Eilif Muller et al 2015.\n",
    "\n",
    "\n"
   ]
  },
  {
   "cell_type": "code",
   "execution_count": 1,
   "metadata": {},
   "outputs": [],
   "source": [
    "import numpy as np\n",
    "import brian2 as b2\n",
    "import matplotlib.pyplot as plt"
   ]
  },
  {
   "cell_type": "code",
   "execution_count": 2,
   "metadata": {},
   "outputs": [],
   "source": [
    "N = 50 # step\n",
    "lambdas = [1, 3, 5]\n",
    "X_T = [np.random.poisson(lam, size=N) for lam in lambdas]\n",
    "S = [[np.sum(X[0:i]) for i in range(N)] for X in X_T]\n",
    "X = np.linspace(0, N, N)"
   ]
  },
  {
   "cell_type": "code",
   "execution_count": 3,
   "metadata": {},
   "outputs": [],
   "source": [
    "V_REST = -70*b2.mV\n",
    "V_RESET = -65*b2.mV\n",
    "FIRING_THRESHOLD = -50*b2.mV\n",
    "MEMBRANE_RESISTANCE = 10. * b2.Mohm\n",
    "MEMBRANE_TIME_SCALE = 8. * b2.ms\n",
    "ABSOLUTE_REFRACTORY_PERIOD = 2.0 * b2.ms"
   ]
  },
  {
   "cell_type": "code",
   "execution_count": 4,
   "metadata": {},
   "outputs": [
    {
     "data": {
      "image/png": "[encoded data removed]",
      "text/plain": [
       "<Figure size 432x288 with 1 Axes>"
      ]
     },
     "metadata": {
      "needs_background": "light"
     },
     "output_type": "display_data"
    }
   ],
   "source": [
    "graphs = [plt.step(X, S[i], label=\"Lambda = %d\"%lambdas[i])[0] for i in range(len(lambdas))]\n",
    "plt.legend(handles=graphs, loc=2)\n",
    "plt.title(\"Poisson Process\")\n",
    "plt.ylim(0)\n",
    "plt.xlim(0)\n",
    "plt.show()"
   ]
  },
  {
   "cell_type": "code",
   "execution_count": 28,
   "metadata": {},
   "outputs": [],
   "source": [
    "?np.random.poisson"
   ]
  },
  {
   "cell_type": "code",
   "execution_count": 24,
   "metadata": {},
   "outputs": [],
   "source": [
    "rate = 20.\n",
    "y = np.cumsum(np.random.exponential(1./rate, size=int(rate)))"
   ]
  },
  {
   "cell_type": "code",
   "execution_count": 29,
   "metadata": {},
   "outputs": [
    {
     "data": {
      "text/plain": [
       "<matplotlib.collections.LineCollection at 0x11376cbe0>"
      ]
     },
     "execution_count": 29,
     "metadata": {},
     "output_type": "execute_result"
    },
    {
     "data": {
      "image/png": "[encoded data removed]",
      "text/plain": [
       "<Figure size 432x288 with 1 Axes>"
      ]
     },
     "metadata": {
      "needs_background": "light"
     },
     "output_type": "display_data"
    }
   ],
   "source": [
    "plt.vlines(y, 0, 1)"
   ]
  },
  {
   "cell_type": "code",
   "execution_count": 34,
   "metadata": {},
   "outputs": [
    {
     "data": {
      "text/plain": [
       "array([0.0296013 , 0.05561786, 0.0606975 , 0.06956113, 0.11181015,\n",
       "       0.12285463, 0.13995419, 0.19466613, 0.21897549, 0.28956011,\n",
       "       0.29725002, 0.30712922, 0.35894548, 0.36942041, 0.38424883,\n",
       "       0.39736882, 0.40772596, 0.48140284, 0.53061725, 0.54851187])"
      ]
     },
     "execution_count": 34,
     "metadata": {},
     "output_type": "execute_result"
    }
   ],
   "source": [
    "y"
   ]
  },
  {
   "cell_type": "code",
   "execution_count": 35,
   "metadata": {},
   "outputs": [
    {
     "data": {
      "text/plain": [
       "20"
      ]
     },
     "execution_count": 35,
     "metadata": {},
     "output_type": "execute_result"
    }
   ],
   "source": [
    "len(y)"
   ]
  },
  {
   "cell_type": "code",
   "execution_count": 37,
   "metadata": {},
   "outputs": [
    {
     "data": {
      "image/png": "[encoded data removed]",
      "text/plain": [
       "<Figure size 432x288 with 1 Axes>"
      ]
     },
     "metadata": {
      "needs_background": "light"
     },
     "output_type": "display_data"
    }
   ],
   "source": [
    "xmin = range(len(y))\n",
    "\n",
    "plt.step(y, xmin)\n",
    "plt.show()"
   ]
  },
  {
   "cell_type": "code",
   "execution_count": 17,
   "metadata": {},
   "outputs": [
    {
     "data": {
      "text/plain": [
       "range(1, 11)"
      ]
     },
     "execution_count": 17,
     "metadata": {},
     "output_type": "execute_result"
    }
   ],
   "source": [
    "y\n"
   ]
  },
  {
   "cell_type": "code",
   "execution_count": null,
   "metadata": {},
   "outputs": [],
   "source": []
  }
 ],
 "metadata": {
  "kernelspec": {
   "display_name": "Python 3",
   "language": "python",
   "name": "python3"
  },
  "language_info": {
   "codemirror_mode": {
    "name": "ipython",
    "version": 3
   },
   "file_extension": ".py",
   "mimetype": "text/x-python",
   "name": "python",
   "nbconvert_exporter": "python",
   "pygments_lexer": "ipython3",
   "version": "3.7.3"
  }
 },
 "nbformat": 4,
 "nbformat_minor": 2
}
