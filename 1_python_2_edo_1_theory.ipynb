{
 "cells": [
  {
   "cell_type": "markdown",
   "metadata": {
    "nbpresent": {
     "id": "d038ae08-ee50-4ad2-9aa5-3dc09b3cb033"
    },
    "slideshow": {
     "slide_type": "slide"
    }
   },
   "source": [
    "# &Eacute;QUATIONS DIFF&Eacute;RENTIELLES\n",
    "\n",
    "\n",
    "**Références:** [Benzoni-Gavage 2010](#cite-benzoni2010a) ou [Demailly 2006](#cite-demailly2006a) ou [Agarwal and O'Regan 2008](#cite-agarwal2008a) pour un exposé complet; [Boularas et al 2009](#cite-boularas2009a) pour un exposé vivant et accessible. "
   ]
  },
  {
   "cell_type": "markdown",
   "metadata": {
    "slideshow": {
     "slide_type": "slide"
    }
   },
   "source": [
    "\n",
    "---\n",
    "## Définition, existence et unicité\n",
    "---"
   ]
  },
  {
   "cell_type": "markdown",
   "metadata": {
    "slideshow": {
     "slide_type": "subslide"
    }
   },
   "source": [
    "Considérerons une **[équation différentielle](https://fr.wikipedia.org/wiki/Équation_différentielle)** du premier ordre:\n",
    "\n",
    "\\begin{align*}\n",
    "  \\dot x(t) = f(t,x(t))\\,,\\ t\\geq 0\\,,\\ x(0)=x_{0}\n",
    "  \\tag{EDO}\n",
    "\\end{align*}\n",
    "\n",
    "où $x(t)\\in\\mathbb{R}^d$ et $f:\\mathbb{R}_+\\times\\mathbb{R}^d\\to \\mathbb{R}^d$. $x_0$ est la **condition initiale**. Lorsque $f$ ne dépend pas de $t$, l'ED est dite **autonome**, lorsque $f$ est linéaire ou affine en $x$, l'ED est dite **linéaire**.\n",
    "\n",
    "L'existence et l'unicité d'une solution de (EDO sont assurées par le [théorème de Cauchy-Lipschitz](https://fr.wikipedia.org/wiki/Théorème_de_Cauchy-Lipschitz).  (EDO)  est un problème local en temps, nous nous contentons ici de donner quelques éléments dans le cas plus simple de solutions globales en supposant que $f$ est  globalement lipschitzienne.\n"
   ]
  },
  {
   "cell_type": "markdown",
   "metadata": {
    "slideshow": {
     "slide_type": "subslide"
    }
   },
   "source": [
    "**Hypothèse:** La fonction  $f$ est dite *globalement lipschitzienne* en $x$ uniformément en $t$, s'il existe  une constante $L$ telle que:\n",
    "\n",
    "\\begin{align*}\n",
    "  |f(t,x)-f(t,y)| \\leq L\\,|x-y|\\,,\\ \\forall t,x,y\\,.\n",
    "\\end{align*}\n",
    "\n",
    "<img src=\"./images/lipschitz2.pdf\" alt=\"Lipschitz\" style=\"width: 200px;\"/>\n",
    "\n",
    "Une fonction lipschitzienne est continue mais pas nécessairement dérivable. Lorsque $f$ admet une dérivée uniformément bornée par une constante $C$, i.e. $|\\partial f(t,x)/\\partial x|\\leq C$ pour tout $(t,x)$, alors elle est lipschitzienne avec constante $C$.\n",
    "\n",
    "On dira que (EDO) admet une **solution unique** si, étant données deux fonctions $x_i(t)$ vérifiant (EDO), $i=1,2$, alors $x_1(t)=x_2(t)$ pour tout $t\\geq 0$.\n",
    "\n",
    "\n",
    "**Proposition (existence et unicité):** Supposons que $(t,x)\\to f(t,x)$ soit continue et globalement lipschitzienne en $x$ uniformément en $t$, alors (EDO) admet une et une seule solution.\n"
   ]
  },
  {
   "cell_type": "markdown",
   "metadata": {
    "slideshow": {
     "slide_type": "slide"
    }
   },
   "source": [
    "**Lemme ([inégalité de Gronwall](https://fr.wikipedia.org/wiki/Lemme_de_Grönwall)):** Soit $I=[a,\\infty]$ ou $[a,b]$ ou $[a,b[$ avec $a<b$. \n",
    "Soit $\\alpha$, $\\beta$, $u$ des fonctions réelles définies sur $I$. On suppose que $\\beta$ et $u$ sont continues et que la partie négative de $\\alpha$ est intégrable sur tout sous-intervalle borné et fermé de $I$. Si $\\beta\\geq 0$ et $u$ _vérifie_:\n",
    "\\begin{align*}\n",
    "u(t) \\leq \\alpha(t) + \\int_a^t \\beta(s) u(s)\\,\\mathrm{d}s,\\qquad \\forall t\\in I\n",
    "\\end{align*}\n",
    "alors\n",
    "\\begin{align*}\n",
    "u(t) \\le \\alpha(t) + \\int_a^t\\alpha(s)\\beta(s)\\exp\\biggl(\\int_s^t\\beta(r)\\,\\mathrm{d}r\\biggr)\\mathrm{d}s,\\qquad t\\in I.\n",
    "\\end{align*}\n",
    "Si de plus  $\\alpha$ est non-décroissante alors:\n",
    "\\begin{align*}\n",
    "u(t) \\leq \\alpha(t)\\exp\\biggl(\\int_a^t\\beta(s)\\,\\mathrm{d}s\\biggr),\\qquad t\\in I.\n",
    "\\end{align*}\n",
    "\n",
    "\n",
    "L'**unicité** fait appel à l'inégalité de Gronwall. Elle permet de démontrer que si $x_{i}(\\cdot)$, $i=1,2$, sont deux solutions de (EDO), alors le fait que $f$ soit globalement lipschitzienne implique que:\n",
    "\n",
    "$$\n",
    "   |x_{1}(t)-x_{2}(t)| \\leq e^{L\\,|t|}\\,|x_{1}(0)-x_{2}(0)|\\,,\\forall t\\geq 0\\,.\n",
    "$$\n",
    "\n",
    "\n",
    "Donc si $x_{1}(0)=x_{2}(0)=x_0$ alors $x_{1}(t)=x_{2}(t)$ pour tout $t$. "
   ]
  },
  {
   "cell_type": "markdown",
   "metadata": {
    "slideshow": {
     "slide_type": "subslide"
    }
   },
   "source": [
    "Il existe deux méthodes classiques pour exhiber des solutions du problème de Cauchy et donc montrer l'**existence** d'une solution. Nous verrons plus loin la méthode d'**approximation d'Euler**, une autre approche classique, puissante mais moins constructive, consiste à faire appel aux **approximations successives de Picard**. On se donne $x^{(0)}(t)$ continue, par exemple $x^{(0)}(t)=0$ pour tout $t$, et on pose:\n",
    "\n",
    "$$\n",
    "    x^{(n+1)} = \\mathcal{I} x^{(n)}\n",
    "$$\n",
    "\n",
    "où $\\mathcal{I}$ est un opérateur qui à une fonction $x:\\mathbb R_+\\to \\mathbb R^d$ asscocie une $\\mathcal{I}x:\\mathbb R_+\\to \\mathbb R^d$ définie par\n",
    "\n",
    "$$\n",
    "   [\\mathcal{I} x](t) = x_{0} + \\int_{t_{0}}^t f(s,x(s))\\,{\\rm d} s\\,,\\ t\\geq 0\\,.\n",
    "$$\n",
    "\n",
    "La solution de (EDO) apparait alors comme un [point fixe](https://fr.wikipedia.org/wiki/Point_fixe) de l'opérateur $\\mathcal{I}$, i.e. $x$ telle que $x=\\mathcal{I} x$. La démonstration de l'existence d'une solution de (EDO) consiste alors à démontrer l'existence d'un point fixe de l'opérateur $\\mathcal I$ en démontrant que cet opérateur est contractant. La preuve de ce résultat est donnée dans [[Benzoni-Gavage 2010](#cite-benzoni2010a) p. 147]."
   ]
  },
  {
   "cell_type": "markdown",
   "metadata": {
    "slideshow": {
     "slide_type": "subslide"
    }
   },
   "source": [
    "### Exemple de non-unicité: \n",
    "\n",
    "On considère l'ED autonome:\n",
    "\n",
    "$$\n",
    "  \\dot x(t) = 2\\,\\sqrt{x(t)}\\,,\\ x(0)=0\\,.\n",
    "$$\n",
    "\n",
    "Il est clair que $x_{1}(t)=0$, $t\\geq 0$ est une solution de cette équation ainsi que  $x_{2}(t)=t^2$, $t\\geq 0$. Par une technique de *recollement* consistant à mettre bout à bout ces deux solutions, on peut cosntruire une infinité de solutions. En effet:\n",
    "\n",
    "$$\n",
    "  x_{1}(t) = \\left\\{\n",
    "  \\begin{array}{ll}\n",
    "   0\\,,& 0\\leq t\\leq a\n",
    "   \\\\\n",
    "   (t-a)^2\\,, & t\\geq a \n",
    "  \\end{array}\n",
    "  \\right.\n",
    "  $$\n",
    "\n",
    "défini une solution différente pour tout $a\\geq 0$.\n",
    "Ici $f(x)=2\\,\\sqrt{x}$ n'est pas globalement uniformément lipschitzienne à cause de son comportement en $O$."
   ]
  },
  {
   "cell_type": "code",
   "execution_count": 20,
   "metadata": {},
   "outputs": [
    {
     "data": {
      "image/png": "[encoded data removed]",
      "text/plain": [
       "<matplotlib.figure.Figure at 0x1153f2b00>"
      ]
     },
     "metadata": {},
     "output_type": "display_data"
    }
   ],
   "source": [
    "import numpy as np\n",
    "import matplotlib.pyplot as plt\n",
    "a = 3\n",
    "t0, t1 = 0, 10\n",
    "le_temps = np.linspace(t0,t1,300, endpoint=True)\n",
    "courbe = (le_temps-a)**2\n",
    "courbe[le_temps-a<0] = 0\n",
    "\n",
    "plt.plot(le_temps, courbe)\n",
    "plt.plot([t0,a],[0,0])\n",
    "plt.axvline(a, color='b', linestyle='dashed', linewidth=1)\n",
    "plt.show()"
   ]
  },
  {
   "cell_type": "markdown",
   "metadata": {
    "slideshow": {
     "slide_type": "subslide"
    }
   },
   "source": [
    "### Exemple de non-existence de solution globale\n",
    "\n",
    "\n",
    "Considérons un modèle de croissance de population - peu réaliste - où le taux de croissance per capita est linéaire en la taille de population:\n",
    "\n",
    "$$\n",
    "  \\dot x(t)=\\lambda\\,x(t)^2\\,,\\ x(0)=x_{0}\n",
    "$$\n",
    "\n",
    "On peut vérifier que la solution de cette équation est:\n",
    "\n",
    "$$\n",
    "  x_{t} = \\frac{x_{0}}{1-\\lambda\\,x_{0}\\,t}\n",
    "$$\n",
    "\n",
    "qui est définie sur $t\\in[0,\\frac{1}{\\lambda\\,x_{0}}[$ et on a effectivement $x(t)\\uparrow\\infty$ lorsque $t\\uparrow \\frac{1}{\\lambda\\,x_{0}}$. Il n'est pas possible d'étendre la solution à tout $t>0$ dans la mesure où $f(x)=\\lambda\\,x^2$ n'est pas à croissance au plus linéaire, donc pas globalement lipschitzienne, à cause de son comportement en $+\\infty$."
   ]
  },
  {
   "cell_type": "code",
   "execution_count": 21,
   "metadata": {},
   "outputs": [
    {
     "data": {
      "image/png": "[encoded data removed]",
      "text/plain": [
       "<matplotlib.figure.Figure at 0x1162b4588>"
      ]
     },
     "metadata": {},
     "output_type": "display_data"
    }
   ],
   "source": [
    "import numpy as np\n",
    "import matplotlib.pyplot as plt\n",
    "lbd, x0 = 2, 1\n",
    "t0, t1 = 0, 1/(lbd*x0)\n",
    "le_temps = np.linspace(t0,t1,300, endpoint=False)\n",
    "\n",
    "courbe = lambda t: x0/(1-lbd*x0*t)\n",
    "\n",
    "plt.plot(le_temps, courbe(le_temps))\n",
    "plt.plot([t1,t1],[0,100], linestyle='--')\n",
    "plt.ylim([0,100])\n",
    "plt.legend()\n",
    "plt.show()"
   ]
  },
  {
   "cell_type": "markdown",
   "metadata": {
    "slideshow": {
     "slide_type": "slide"
    }
   },
   "source": [
    "---\n",
    "\n",
    "## &Eacute;quations différentielles linéaires\n",
    "\n",
    "---"
   ]
  },
  {
   "cell_type": "markdown",
   "metadata": {},
   "source": [
    "On considère l'EDO linéaire vectoriel:\n",
    "\n",
    "\\begin{align*}\n",
    "  \\dot x(t) = A \\,x(t) \\,,\\hskip 1em \\ t\\geq 0\\,,\\ x(0)=x_{0} \\tag{EDO L1}\n",
    "\\end{align*}\n",
    "\n",
    "où $x(t)$ est de dimension $d$ et $A$ est une matrice constante de dimension $d\\times d$. On note que la fonction $f(x)=A\\,x$ est globalement lipschitzienne et donc rentre dans le cadre précédent. Pour comprendre comment la solution de cette équation se construit, on peut reprendre le procédé de construction des approximations successives de Picard. On se donne $x^{(0)}(t)=0$ pour tout $t$, et on pose:\n",
    "\n",
    "\\begin{align*}\n",
    "  x^{(n)}(t) = x_0 + A \\,\\int_0^t x^{(n-1)}(s) \\,{\\rm d}s\n",
    "\\end{align*}\n",
    "\n",
    "donc\n",
    "\n",
    "\\begin{align*}\n",
    "  x^{(n)}(t) &= x_0 + A \\,\\int_0^t  \\big[x_0 + A \\,\\int_0^{t_1} x^{(n-2)}(t_2) \\,{\\rm d}t_2\\big] \\,{\\rm d}t_1\\\\\n",
    "  &= x_0 + t\\,A\\,x_0 + A^2 \\,\\int_0^t  \\int_0^{t_1} x^{(n-2)}(t_2) \\,{\\rm d}t_2 \\,{\\rm d}t_1\\\\\n",
    "  &= x_0 + t\\,A\\,x_0 + \\frac{t^2}{2}\\,A^2\\,x_0+ A^3 \\,\\int_0^t  \\int_0^{t_1} \\int_0^{t_2} x^{(n-3)}(t_3) \\,{\\rm d}t_3 \\,{\\rm d}t_2 \\,{\\rm d}t_1\\\\\n",
    "  &= x_0 + t\\,A\\,x_0 + \\frac{t^2}{2}\\,A^2\\,x_0+  \\frac{t^3}{3!}\\,A^3\\,x_0+ \\cdots+ \\frac{t^{n-1}}{(n-1)!}\\,A^{n-1}\\,x_0\n",
    "\\end{align*}\n",
    "\n",
    "\n",
    "où $A^n=A\\times\\cdots\\times A$ ($n$ fois). Lorsque $n\\to \\infty$ nous avons déjà indiqué que $x^{(n)}(t)$ converge vers la solution $x(t)$ de (EDO L1) et on obtient:\n",
    "\n",
    "\\begin{align*}\n",
    "  x(t) = \\big[I + t\\,A + \\frac{t^2}{2}\\,A^2 +  \\frac{t^3}{3!}\\,A^3+ \\cdots \\big] \\,x_0\n",
    "\\end{align*}\n",
    "\n",
    "On définit l'[exponentielle de matrice](https://fr.wikipedia.org/wiki/Exponentielle_d%27une_matrice):\n",
    "\n",
    "\\begin{align*}\n",
    "  e^{t\\,A} =  I + t\\,A + \\frac{t^2}{2}\\,A^2 +  \\frac{t^3}{3!}\\,A^3+ \\cdots \n",
    "\\end{align*}\n",
    "\n",
    "on obtient finalement que:\n",
    "\n",
    "\\begin{align*}\n",
    "  x(t) = e^{t\\,A} \\,x_0\n",
    "\\end{align*}\n"
   ]
  },
  {
   "cell_type": "markdown",
   "metadata": {},
   "source": [
    "### Quelques propriétés de l'exponentielle d'une matrice\n",
    "\n",
    "La matrice exponentielle $e^M$ d'une matrice $M$ de dimension $d\\times d$ est définie par:\n",
    "\\begin{align*}\n",
    "  e^{M} =  I + M + \\frac{1}{2}\\,M^2 +  \\frac{1}{3!}\\,M^3+ \\cdots \n",
    "\\end{align*}\n",
    "et vérifie\n",
    "- $e^{0\\,M}=I$\n",
    "- $e^{t\\,M}\\times e^{s\\,M}=e^{(t+s)\\,M}$\n",
    "- si $M_{1}$ et $M_{2}$ commutent (i.e. $M_1\\,M_2=M_2\\,M_1$) alors $e^{M_{1}}\\,e^{M_{2}} = e^{M_{2}}\\,e^{M_{1}} = e^{M_{1}+M_{2}}$\n",
    "- $e^M$ est toujours inversible et $[e^M]^{-1}=e^{-M}$ \n",
    "- ${\\textstyle\\frac{\\rm d}{{\\rm d}t}} e^{t\\,M}= M\\,e^{t\\,M}$\n"
   ]
  },
  {
   "cell_type": "code",
   "execution_count": 22,
   "metadata": {},
   "outputs": [
    {
     "data": {
      "text/plain": [
       "0.0"
      ]
     },
     "execution_count": 22,
     "metadata": {},
     "output_type": "execute_result"
    }
   ],
   "source": [
    "from scipy.linalg import expm, norm\n",
    "\"exponentiel d'une matrice, norme d'une matrice\"\n",
    "matrice_nulle    = np.zeros((20,20))\n",
    "matrice_identite = np.eye(20)\n",
    "norm(expm(matrice_nulle) - matrice_identite)"
   ]
  },
  {
   "cell_type": "markdown",
   "metadata": {},
   "source": [
    "### Variation de la constante\n",
    "\n",
    "La solution de l'EDO linéaire:\n",
    "\n",
    "\\begin{align*}\n",
    "  \\dot x(t) = A \\,x(t) + b(t) \\,,\\hskip 1em \\ t\\geq 0\\,, \\tag{EDO L2}\n",
    "\\end{align*}\n",
    "\n",
    "peut s'obtenir par la [méthode de la variation de la constante](https://fr.wikipedia.org/wiki/Méthode_de_variation_des_constantes) qui consiste à chercher une solution $x(t)$ de (EDO L2) qui soit de la forme $x(t)=e^{t\\,A}\\,y(t)$, le but est de déterminer $y(t)$ de telle sorte que $x(t)$ soit solution de (EDO L2). La dérivée de $x(t)$ s'écrit:\n",
    "\n",
    "\\begin{align*}\n",
    "  { \\frac{\\rm d}{{\\rm d}t}} x(t) = {  \\frac{\\rm d}{{\\rm d}t}}[e^{t\\,A}\\,y(t)] \n",
    "  = {  \\frac{\\rm d e^{t\\,A}}{{\\rm d}t}} \\, y(t) + e^{t\\,A}\\, \\dot y(t)\n",
    "  = A\\, e^{t\\,A} \\, y(t) + e^{t\\,A}\\, \\dot y(t)\n",
    "\\end{align*}\n",
    "\n",
    "mais d'après (EDO L2) $\\dot x(t)=A \\,x(t) + b(t)$, donc:\n",
    "\n",
    "\\begin{align*}\n",
    "  A \\,x(t) + b(t) = A\\, x(t) + e^{t\\,A}\\, \\dot y(t)\n",
    "\\end{align*}\n",
    "et ainsi $\\dot y(t) = e^{-t\\,A}\\,b(t)$ et comme $x(0)=I\\,y(0)=x_0$, on obtient $y(t)=x_0+\\int_0^t e^{-s\\,A}\\,b(s){\\rm d} s$ et:\n",
    "\n",
    "\\begin{align*}\n",
    "  x(t) = e^{t\\,A}\\,x_0 + e^{t\\,A} \\int_0^t  e^{-s\\,A}\\,b(s){\\rm d} s\n",
    "\\end{align*}\n",
    "\n",
    "qui est donc la solution explicite de (EDO L2).\n",
    "\n"
   ]
  },
  {
   "cell_type": "markdown",
   "metadata": {},
   "source": [
    "### Résolvante\n",
    "\n",
    "On considère l'EDO linéaire\n",
    "\\begin{align*}\n",
    "  \\dot x(t) = A(t) \\,x(t)  \\,,\\hskip 1em \\ t\\geq 0\\,, \\tag{EDO L3}\n",
    "\\end{align*}\n",
    "où la matrice dépend continuement du temps $t$. L'approche précédente se généralise en introduisant la **résolvante** qui est une famille de matrice $\\Phi(t,s)$ indicée par $t,s\\geq 0$ définie par:\n",
    "\n",
    "\\begin{align*}\n",
    "  {\\textstyle  \\frac{\\rm d}{{\\rm d}t}} \\Phi(t,s) = A(t) \\,\\Phi(t,s)  \\,,\\hskip 1em \\ t\\geq s\\,,\\, \\Phi(s,s)=I \\tag{résolvante}\n",
    "\\end{align*}\n",
    "On peut vérifier que $\\Phi(t,s)=\\Phi(t,u)\\times \\Phi(u,s)$ et que $[\\Phi(t,s)]^1=\\Phi(s,t)$. Bien qu'on ne dispose pas de solution explicite à l'équation de la résolvante, on peut montrer que la solution $x(t)$ de (EDO L3) s'exprime en fonction de la résolvante de la façon suivant:\n",
    "\n",
    "\\begin{align*}\n",
    "  x(t) = \\Phi(t,0)\\,x_0\n",
    "\\end{align*}\n",
    "\n",
    "et que la solution $x(t)$ de \n",
    "\\begin{align*}\n",
    "  \\dot x(t) = A(t) \\,x(t)  + b(t)\n",
    "\\end{align*}\n",
    "est donnée par\n",
    "\\begin{align*}\n",
    "  x(t) = \\Phi(t,0)\\,x_0 + \\Phi(t,0) \\int_0^t  \\Phi(0,s)\\,b(s){\\rm d} s\n",
    "\\end{align*}\n",
    "\n",
    "\n",
    "\n",
    "\n",
    "\n"
   ]
  },
  {
   "cell_type": "markdown",
   "metadata": {
    "slideshow": {
     "slide_type": "slide"
    }
   },
   "source": [
    "---\n",
    "## Comportement asymptotique\n",
    "---"
   ]
  },
  {
   "cell_type": "markdown",
   "metadata": {
    "slideshow": {
     "slide_type": "subslide"
    }
   },
   "source": [
    "On considère le problème de Cauchy autonome suivant:\n",
    "\n",
    "\\begin{align*}\n",
    "  \\dot x(t) = f(x(t))\\,,\\ t\\geq 0\\,,\\ x(0)=x_{0} \\tag{EDO}\n",
    "\\end{align*}\n",
    "\n",
    "pour laquelle on suppose qu'il existe une solution globale. On peut par exemple supposé que $f$ est globalement lipschitzienne.\n",
    "\n",
    "Supposons que la solution $x(t)$ de (EDO) converge vers un point $x^*$ de $\\mathbb{R}^d$, alors nécessairement $x(t)$ va cesser d'évoluer au \"bout d'un certain temps\" de telle sorte que $\\dot x(t)=0$ et donc nécessairement $f(x^*)=0$:\n",
    "\n",
    "> Un point $x^*\\in\\mathbb R^d$ tel que $f(x^*)=0$ est appelé **point d'équilibre** de (EDO).\n",
    "\n",
    "Dans un premier temps sans se poser la question du comportement asymptotique de la solution de l'EDO, on peut chercher à déterminer les points d'équilibre de l'EDO.\n",
    "\n",
    "Dans un second temps, on peut chercher à caractériser la nature de ces points d'équilibre:\n",
    "\n",
    ">Un point d'équilibre $x^*$ sera dit **stable** si:\n",
    "\n",
    ">\\begin{align*}\n",
    "  \\forall \\epsilon>0\\,,\\ \\exists \\eta>0\\,:\\ \n",
    "  |x_{0}-x^*| <\\eta \\Rightarrow |x(t)-x^*|<\\epsilon\\,,\\ \\forall t\\geq 0\\,.\n",
    "\\end{align*}\n",
    "\n",
    "> Si de plus:\n",
    "\n",
    "> \\begin{align*}\n",
    "  |x(t)-x^*|\\to 0\\textrm{ lorsque }t\\to \\infty\n",
    "\\end{align*}\n",
    "\n",
    "> alors le point est dit **asymptotiquement stable**. Un point d'équilibre qui n'est pas stable est dit **instable**.\n",
    "\n",
    "Il existe une méthode d'analyse de la stabilité des EDO assez générale dite de [Lyapounov](https://fr.wikipedia.org/wiki/Stabilité_de_Liapounov), elle est puissante mais assez  difficile à utiliser en pratique.\n",
    "\n",
    "Nous allons présenter ici une étude locale de la stabilité consistant à linéariser (EDO) autour du point d'équilibre $x^*$ considéré. Cela revient donc à étudier un système linéaire. Nous présentons donc la notion de stabilité dans le cadre linéaire et nous reviendrons plus tard sur le cas linéaire.\n"
   ]
  },
  {
   "cell_type": "markdown",
   "metadata": {
    "slideshow": {
     "slide_type": "subslide"
    }
   },
   "source": [
    "### Cas linéaire\n",
    "\n",
    "On considère le problème de Cauchy autonome linéaire suivant:\n",
    "\n",
    "\\begin{align}\\label{eqCauchyLin}\n",
    "  \\dot x(t) = A\\,x(t)\\,,\\ t\\geq 0\\,,\\ x(0)=x_{0}\n",
    "\\end{align}\n",
    "\n",
    "Le point $0$ est un point d'équilibre de ce système. Notons que:\n",
    "\n",
    "\\begin{align*}\n",
    "  x(t) \n",
    "  = e^{t\\,A}\\,x_0\n",
    "  \\textstyle = (I+t\\,A+\\frac{t^2}{2}\\,A^2+\\frac{t^3}{3!}\\,A^3+\\cdots)\\,x_0\n",
    "\\end{align*}\n",
    "\n",
    "maintenant supposons que $x_0$ soit tel qu'il existe un réel $\\lambda$ (voire un complexe, cf. infra) vérifiant $A\\,x_0=\\lambda\\,x_0$ alors $A^n\\,x_0=\\lambda^n\\,x_0$ et:\n",
    "\n",
    "\\begin{align*}\n",
    "  x(t) \n",
    "  \\textstyle\n",
    "  = x_0+t\\,\\lambda\\,x_0+\\frac{(t\\,\\lambda)^2}{2}\\,x_0+\\frac{(t\\,\\lambda)^3}{3!}\\,x_0+\\cdots\n",
    "  = e^{\\lambda\\,t}\\,x_0\n",
    "\\end{align*}\n",
    "\n",
    "Donc lorsque $\\lambda<0$ (du moins sa partie réelle est strictement négative dans la cas complexe) alors $x(t)$ converge exponentiellement vite vers $0$. \n",
    "\n",
    "Les $x_0$ tels qu'il existe $A\\,x_0=\\lambda\\,x_0$ sont des vecteurs de $\\mathbb R^d$ qui ne sont pas modifiés par la matrice $A$ (à un coefficient de proportionnalité près, éventuellement négatif), ils sont appelés **vecteurs propres** de la matrices $A$ et les $\\lambda$ les **valeurs propres** de la matrice $A$."
   ]
  },
  {
   "cell_type": "markdown",
   "metadata": {
    "slideshow": {
     "slide_type": "subslide"
    }
   },
   "source": [
    "** Valeurs propres et vecteurs propres d'une matrice **\n",
    "\n",
    "*Remarque: En mathématiques, ces concepts sont traditionnellement introduits dans le cadre des endomorphismes. Les endormorsphismes sur $\\mathbb R^d$ sont simplement les applications linéaires de $\\mathbb R^d$ dans lui-même, mais ces applications se mettent toutes sous la forme $x\\to A\\,x$ pour une certaine matrice carrée $A$ de taille $d\\times d$; on peut donc identifier ces endomorphismes aux matrices associées et donc introduire ces concepts directement sur les matrices. Toutefois la plupart des références en français sur le sujet refusent ce raccourci, nous proposons donc une référence en anglais [Jeffrey 2010](#cite-jeffrey2010a).*\n",
    "\n",
    "Etant donnée une matrice réelle $A$ de dimension $n\\times n$, un scalaire $\\lambda\\neq 0$ sera appelé **[valeur propre](https://fr.wikipedia.org/wiki/Valeur_propre,_vecteur_propre_et_espace_propre)** de $A$ lorsqu'il existe $x\\in\\mathbb R^d$ non-nul tel que\n",
    "\n",
    "\\begin{align*}\n",
    "   A\\,x = \\lambda x\n",
    "\\end{align*}\n",
    "\n",
    "le vecteur $x$ est alors appelé **vecteur propre** de $A$ associé à la valeur propre $\\lambda$.\n",
    "\n",
    "\n",
    "Il est possible de trouver une solution $x$ non nulle à $ A\\,x = \\lambda\\,x $ si et seulement si le [**déterminant**](https://fr.wikipedia.org/wiki/Calcul_du_déterminant_d%27une_matrice) de la matrice $A-\\lambda\\,I$ est nul (lorsque ce déterminant est non nul, alors le seul $x$ vérifiant $ (A-\\lambda\\,I)\\,x = 0 $ est $x=0$). On définit le **spectre** de la matrice $A$ par:\n",
    "\n",
    "\\begin{align*}\n",
    "  Sp(A) := \\left\\{\\lambda\\in\\mathbb C\\,;\\, \\det(A-\\lambda\\,I)=0\\right\\}\n",
    "\\end{align*}\n",
    "\n",
    "notez que\n",
    "\n",
    "\\begin{align*}\n",
    "   p_A(\\lambda) := \\det(A-\\lambda\\,I)\n",
    "\\end{align*}\n",
    "\n",
    "est un **polynôme dit caractéristique** de degré $d$, et les valeurs propres sont les racines de ce polynôme c'est à dire les solution de:\n",
    "\n",
    "\\begin{align*}\n",
    "   p_A(\\lambda) = 0\n",
    "\\end{align*}\n",
    "\n",
    "appelée **équation caractéristique**. Le [théorème de d'Alembert-Gauss](https://fr.wikipedia.org/wiki/Théorème_fondamental_de_l%27algèbre) assure que le polynôme caractéristique admet $d$ racines  (éventuellement complexes et non nécessairement distinctes). "
   ]
  },
  {
   "cell_type": "markdown",
   "metadata": {
    "slideshow": {
     "slide_type": "subslide"
    }
   },
   "source": [
    "Notez que de considèrer la solution de \\eqref{eqCauchyLin} avec une condition initiale complexe ne pose aucune difficulté.\n",
    "\n",
    "Le point $0$ est un point d'équilibre de \\eqref{eqCauchyLin} et:\n",
    "\n",
    "- $0$ est asymptotiquement stable ssi $Re(\\lambda)<0$ pour tout $\\lambda\\in Sp(A)$;\n",
    "- $0$ est stable ssi pour tout $\\lambda\\in Sp(A)$:\n",
    "   - $Re(\\lambda)\\leq 0$;\n",
    "   - et lorsque $Re(\\lambda) = 0$ alors la multiplicité géométrique de $\\lambda$ correspond à sa multiplicité algébrique (la multiplicité géométrique de $\\lambda$ est la dimension du noyau de $A-\\lambda\\,I$; la multiplicité algébrique de $\\lambda$ est la multiplicité comme  racine du polynôme caractéristique).\n",
    "\n",
    "Ce résultat s'appuie en fait sur la compréhension de la résolvante du système \\eqref{eqCauchyLin} qui est en effet donnée par [[Agarwal and O'Regan 2008](#cite-agarwal2008a)  p. 133]:\n",
    "\n",
    "\\begin{align*}\n",
    "  \\Phi(t,0) = \\bigl[ e^{\\lambda_{1}\\,t}\\,v_{1},\\dots,e^{\\lambda_{n}\\,t}\\,v_{n}\\bigr]\n",
    "\\end{align*}\n",
    "\n",
    "où $\\lambda_{i}$ sont les valeurs propres de $A$ et $v_{i}$ des vecteurs propres associés."
   ]
  },
  {
   "cell_type": "markdown",
   "metadata": {
    "slideshow": {
     "slide_type": "subslide"
    }
   },
   "source": [
    "** Exemple 1**\n",
    "\n",
    "\\begin{align*}\n",
    "  \\frac{d}{dt}\\begin{pmatrix}x_1 \\\\ x_2 \\end{pmatrix} =\n",
    "  \\begin{pmatrix}0 & 1 \\\\ -1 & 0  \\end{pmatrix}\\,\n",
    "  \\begin{pmatrix}x_1 \\\\ x_2 \\end{pmatrix}\n",
    "\\end{align*}\n",
    "\n",
    "alors \n",
    "\n",
    "\\begin{align*}\n",
    "\\det(A-\\lambda\\,I)  = \\det\\begin{pmatrix}-\\lambda & 1 \\\\ -1 & -\\lambda  \\end{pmatrix} = \\lambda^2+1\n",
    "\\end{align*}\n",
    "\n",
    "le polynôme caractéristique admet deux racines complexes $\\lambda_1 = +i$ et $\\lambda_2 = -i$. En fait $0$ n'est pas stable, pour le comprendre il suffit de remarquer que: $A^{4n+1}=A,\\, A^{4n+2}=-I,\\, A^{4n+3}=-A,\\, A^{4n+4}=I$ pour tout $n$, donc:\n",
    "\\begin{align*}\n",
    "e^{t\\,a} = \\begin{pmatrix} \\cos(t)  & \\sin(t) \\\\ -\\sin(t)  & \\cos(t)  \\end{pmatrix}\n",
    "\\end{align*}\n",
    "\n",
    "Ainsi\n",
    "\n",
    "\\begin{align*}\n",
    "x(t) = e^{t\\,a} x(0) = \n",
    "   \\begin{pmatrix} \\cos(t)\\,x_1(0) +\\sin(t)\\,x_2(0) \\\\ -\\sin(t) \\,x_1(0)+ \\cos(t)\\,x_2(0)  \\end{pmatrix}\n",
    "\\end{align*}\n",
    "\n",
    "et\n",
    "\n",
    "\\begin{align*}\n",
    " |x(t)|^2= x_1(t)^2+x_2(t)^2 =\n",
    " [\\cos(t)\\,x_1(0) +\\sin(t)\\,x_2(0)]^2+[ -\\sin(t) \\,x_1(0)+ \\cos(t)\\,x_2(0)]^2 =\n",
    " |x(0)|^2\n",
    "\\end{align*}\n",
    "\n",
    "donc les trajectoires de $x(t)$ décrivent des cercles centrés en 0 et de rayon égal à $|x(0)|^2$.\n",
    "\n",
    "\n",
    "\n"
   ]
  },
  {
   "cell_type": "markdown",
   "metadata": {},
   "source": [
    "### Exemple de la Dimension 2\n",
    "\n",
    "En dimension 2 on peut avoir une classification précises des points d'équilibre en fonction du déterminant de $A$ et de sa trace:\n",
    "\n",
    "\\begin{align*}\n",
    "\\textrm{tr}(A) = A_{1,1}+A_{2,2}+\\cdots+A_{d,d} \n",
    "\\end{align*}\n",
    "\n",
    "On obtient:\n",
    "\n",
    "<img src=\"./images/classification_point_equilibre.png\" alt=\"Classification des points d'équilibre\" style=\"width: 800px;\"/>\n",
    "\n",
    "[détails [ici](http://www.augustana.ab.ca/~hackw/mat332/exhibit/fxdpt2d.html)]"
   ]
  },
  {
   "cell_type": "markdown",
   "metadata": {
    "slideshow": {
     "slide_type": "subslide"
    }
   },
   "source": [
    "### Cas non-linéaire\n",
    "\n",
    "On considère le problème de Cauchy autonome non-linéaire suivant:\n",
    "\n",
    "\\begin{align*}\n",
    "  \\dot x(t) = f(x(t))\\,,\\ t\\geq 0\\,,\\ x(0)=x_{0}\n",
    "  \\tag{EDO NL A}\n",
    "\\end{align*}\n",
    "\n",
    "et $x^*$ un point d'équilibre. On suppose $f$ différentiable et à dérivées continues.\n",
    "\n",
    "On peut supposer que $f(0)=0$ et donc que $x^*=0$ en faisant le changement de variable $x\\to x-x^*$ dans (EDO NL A). On se place donc dans le cas $f(0)=0$ et on étudie les propriétés du point d'équilibre 0.  On note $J_f(0)$ la matrice jacobienne de $f$ au point d'équilibre~$0$. \n",
    "\n",
    "\n",
    "**Exemple:** Les points d'équilibre de l'équation logistique.\n",
    "\n"
   ]
  },
  {
   "cell_type": "markdown",
   "metadata": {
    "slideshow": {
     "slide_type": "subslide"
    }
   },
   "source": [
    "#### Linéarisation\n",
    "\n",
    "Une méthode classique consiste à étudier le système linéarisé en $0$:\n",
    "\n",
    "\\begin{align*}\n",
    "  \\dot x(t) = J_f(0)\\,x(t)\\,,\\ t\\geq 0\\,,\\ x(0)=x_{0}\n",
    "\\end{align*}\n",
    "\n",
    "où $J_f(x)$ est la matrice jacobienne de $f$ en $x$:\n",
    "\n",
    "\\begin{align*}\n",
    "J_f(x)\n",
    "   :=\n",
    "   \\left(\\begin{matrix}\n",
    "      \\partial f_{1}(x)/\\partial x_{1} & \n",
    "      \\partial f_{1}(x)/\\partial x_{2} &\n",
    "      \\cdots & \n",
    "      \\partial f_{1}(x)/\\partial x_{d} & \n",
    "   \\\\\n",
    "      \\partial f_{2}(x)/\\partial x_{1} & \n",
    "      \\partial f_{2}(x)/\\partial x_{2} &\n",
    "      \\cdots & \n",
    "      \\partial f_{2}(x)/\\partial x_{d} & \n",
    "   \\\\\n",
    "      \\vdots  & \n",
    "      \\vdots &\n",
    "       & \n",
    "      \\vdots & \n",
    "   \\\\[0.5em]\n",
    "      \\partial f_{d}(x)/\\partial x_{1} & \n",
    "      \\partial f_{d}(x)/\\partial x_{2} &\n",
    "      \\cdots & \n",
    "      \\partial f_{d}(x)/\\partial x_{d} & \n",
    "   \\end{matrix}\\right)\n",
    "\\end{align*}\n",
    "\n",
    "Alors:\n",
    "- si pour tout $\\lambda\\in Sp(J_f(0))$  on a $\\Re(\\lambda)<0$   alors $0$ est asymptotiquement stable pour (EDO NL A);\n",
    "- s'il existe  $\\lambda\\in Sp(J_f(0))$  tel que $\\Re(\\lambda)>0$ alors $0$ est instable  pour (EDO NL A).\n",
    "\n",
    "\n",
    "Si toutes les valeurs propres ont des parties réelles nulles alors $0$ est stable pour l'EDO linéarisée mais on ne peut rien dire de $0$ pour l'EDO non linéaire de départ."
   ]
  },
  {
   "cell_type": "markdown",
   "metadata": {
    "slideshow": {
     "slide_type": "subslide"
    }
   },
   "source": []
  },
  {
   "cell_type": "markdown",
   "metadata": {
    "slideshow": {
     "slide_type": "slide"
    }
   },
   "source": [
    "---\n",
    "## Approximation numérique\n",
    "---\n"
   ]
  },
  {
   "cell_type": "markdown",
   "metadata": {
    "slideshow": {
     "slide_type": "subslide"
    }
   },
   "source": [
    "Le module `integrate` de [SciPy](https://www.scipy.org) propose deux outils pour [intégrer numériquement des EDO](https://en.wikipedia.org/wiki/Numerical_methods_for_ordinary_differential_equations?oldid=550976985): `integrate.odeint` et `integrate.ode`. \n",
    "\n",
    "- `integrate.odeint` est une fonction implémentant le solveur LSODA d'ODEPACK qui bascule automatiquement entre une méthode de prédiction-correction d'Adam Adams pour des problèmes non-raides à une méthode BDF pour les problèmes raides.\n",
    "\n",
    "- `integrate.ode` est une classe offrant une interface orientée objet donnant accès à plusieurs solveurs.\n",
    "\n",
    "`integrate.ode` est plus flexible mais `integrate.odeint` est nettement plus accessible. Nous nous limiterons ici à ce dernier solveur.\n",
    "La fonction `odeint` comprend 3 arguments obligatoires : une fonction définissant le membre de droit de l'EDO, i.e. la fonction $f$,  un array donnant la condition initiale, est un array de valeurs de $t$ où $x(t)$ doit être calculé.  La fonction du membre de droite comprends 2 arguments obligatoires, un array $x$ et un scalaire  $t$, et des arguments optionnels.\n",
    "\n",
    "Voir [[Johansson 2015 p. 223](#cite-johansson2015a)]."
   ]
  },
  {
   "cell_type": "markdown",
   "metadata": {
    "slideshow": {
     "slide_type": "subslide"
    }
   },
   "source": [
    "### Développement de Taylor\n",
    "\n",
    "On considère une solution $x(t)$ de (EDO) définie pour $t\\in[0,T]$ avec $t_{0}=0$. \n",
    "On se donne $\\delta>0$, on pose $t_{k}=k\\,\\delta$ et on considère le développement de Taylor:\n",
    "\n",
    "\\begin{align*}\n",
    "  x(t+\\delta) = x(t) + \\delta\\,x'(t) + \\frac{\\delta^2}{2}\\,x''(t) + \\frac{\\delta^3}{3!}\\,x'''(t)+\\cdots\n",
    "\\end{align*}\n",
    "\n",
    "À l'ordre $n$, on a la formule:\n",
    "\n",
    "\\begin{align*}\n",
    "  x(t+\\delta) = x(t) + \\delta\\,x'(t) + \\frac{\\delta^2}{2}\\,x''(t) + \\frac{\\delta^3}{3!}\\,x'''(t)+\\cdots+\\frac{\\delta^n}{n!}\\,x^{(n)}(\\tau)\n",
    "\\end{align*}\n",
    "\n",
    "pour un certain $\\tau\\in[t,t+\\delta]$"
   ]
  },
  {
   "cell_type": "markdown",
   "metadata": {
    "slideshow": {
     "slide_type": "subslide"
    }
   },
   "source": [
    "### Approximation d'Euler\n",
    "\n",
    "L'approximation d'Euler de $x(t)$ consiste à tronquer à l'ordre 1:\n",
    "\n",
    "\\begin{align*}\n",
    "  x(t+\\delta) = x(t) + \\delta\\,x'(t) +\\frac{\\delta^2}{2}\\,x^{''}(\\tau)\n",
    "\\end{align*}\n",
    "\n",
    "donc\n",
    "\n",
    "\\begin{align*}\n",
    "  x(t+\\delta) = x(t) + \\delta\\,f(t,x(t)) + O(\\delta^2)\n",
    "\\end{align*}\n",
    "\n",
    "(ordre 1: erreur locale en $O(\\delta^2)$, erreur globale en $O(\\delta)$)\n",
    "\n",
    "\n",
    "\n",
    "<img src=\"./images/er_euler.png\" alt=\"Schema d'Euler\" style=\"width: 200px;\"/>\n",
    "\n",
    "\n"
   ]
  },
  {
   "cell_type": "markdown",
   "metadata": {
    "slideshow": {
     "slide_type": "subslide"
    }
   },
   "source": [
    "On obtient l'approximaton:\n",
    "\\begin{align*}\n",
    "   \\tilde x_{k+1}  = \\tilde x_k+\\delta\\,f(t_{k},\\tilde x_k)\n",
    "\\end{align*}\n",
    "\n",
    "$\\delta$ est le pas de l'approximation, on définit $\\tilde x(t)$ comme étant l'interpolée linéaire des points $\\tilde x_k$.\n",
    "\n",
    "\n",
    "<img src=\"./images/euler_erreur.png\" alt=\"Schema d'Euler\" style=\"width: 500px;\"/>"
   ]
  },
  {
   "cell_type": "markdown",
   "metadata": {
    "slideshow": {
     "slide_type": "subslide"
    }
   },
   "source": [
    "### Approximation de Runge-Kutta\n",
    "\n",
    "\n",
    "Cette méthode reprend la méthode d'Euler en utilisant une approximation de la dérivée au point milieu. Le développement de Taylor à l'rdore 3 donne:\n",
    "\n",
    "\\begin{align*}\n",
    "  x(t+\\delta) = x(t) + \\delta\\,x'(t) + \\frac{\\delta^2}{2}\\,x''(t) + \\frac{\\delta^3}{3!}\\,x'''(\\tau)\n",
    "\\end{align*}\n",
    "\n",
    "mais \n",
    "\n",
    "$x'(t+\\delta/2) = x'(t)+ \\frac{\\delta}{2}\\,x''(t)+O(\\delta^2)$ donc \n",
    "$\\frac{\\delta^2}{2}\\,x''(t)= \\delta[x'(t+\\delta/2) - x'(t)]  +O(\\delta^3)$ et\n",
    "\n",
    "\\begin{align*}\n",
    "  x(t+\\delta) \n",
    "  &= x(t) + \\delta x'(t) + \\frac{\\delta^2}{2}\\,\\frac{x'(t+\\delta/2)-x'(t)}{\\delta/2} + O(\\delta^3)\n",
    "  \\\\\n",
    "  &= x(t) + \\delta  x'(t+\\delta/2)  + O(\\delta^3)\n",
    "  \\\\\n",
    "  &= x(t) + \\delta  f(t+\\delta/2,x(t+\\delta/2))  + O(\\delta^3)\n",
    "  \\\\\n",
    "  &= x(t) + \\delta  f\\big(t+\\delta/2,x(t)+(\\delta/2)\\,f(t,x(t))\\big)  + O(\\delta^3)\n",
    "\\end{align*}\n",
    "\n",
    "\n",
    "\n",
    "<img src=\"./images/er_rk2.png\" alt=\"Schema RK2\" style=\"width: 200px;\"/>\n",
    "\n",
    "\n",
    "\n",
    "il s'agit donc d'un schéma d'ordre 2:\n",
    "\n",
    "\\begin{align*}\n",
    "   \\tilde x_{k+1}   = \n",
    "   \\tilde x_k+\\delta\\,f\\Big(t_{k}+\\frac{\\delta}{2},\\tilde x_k+\\frac{\\delta}{2}\\,f(t_k,\\tilde x_k)\\Big)\n",
    "\\end{align*}"
   ]
  },
  {
   "cell_type": "code",
   "execution_count": 2,
   "metadata": {
    "slideshow": {
     "slide_type": "subslide"
    }
   },
   "outputs": [
    {
     "data": {
      "image/png": "[encoded data removed]",
      "text/plain": [
       "<matplotlib.figure.Figure at 0x1085216a0>"
      ]
     },
     "metadata": {},
     "output_type": "display_data"
    }
   ],
   "source": [
    "import numpy as np\n",
    "import matplotlib.pyplot as plt\n",
    "\n",
    "def euler( f, x0, t ):\n",
    "    n = len( t )\n",
    "    x = np.array( [x0] * n )\n",
    "    for i in range(n-1):\n",
    "        x[i+1] = x[i] + ( t[i+1] - t[i] ) * f( x[i], t[i] )\n",
    "    return x\n",
    "\n",
    "def rk2a( f, x0, t ):\n",
    "    n = len( t )\n",
    "    x = np.array( [ x0 ] * n )\n",
    "    for i in range( n - 1 ):\n",
    "        h = t[i+1] - t[i]\n",
    "        k1 = 0.5 * h * f( x[i], t[i] ) \n",
    "        x[i+1] = x[i] + h * f( x[i] + k1, t[i] + 0.5 * h  )\n",
    "    return x\n",
    "\n",
    "def f( x, t ):\n",
    "    return x * np.sin( t )\n",
    "\n",
    "x0, T =  -1., 10.0\n",
    "n = 51\n",
    "t = np.linspace( 0, T, n )\n",
    "t2 = np.linspace( 0, T, 2*n )\n",
    "\n",
    "x = -np.exp( 1.0 - np.cos( t ) )\n",
    "x_euler = euler( f, x0, t )\n",
    "x_euler2 = euler( f, x0, t2 )\n",
    "x_rk2 = rk2a( f, x0, t )\n",
    "\n",
    "plt.plot(t,x,label=r'$x(t)$')\n",
    "plt.plot(t,x_euler,label='Euler',linestyle='--')\n",
    "plt.plot(t2,x_euler2,label=r'Euler $\\delta/2$',linestyle='--')\n",
    "plt.plot(t,x_rk2,label='RK2',linestyle='--')\n",
    "plt.legend()\n",
    "plt.show()\n"
   ]
  },
  {
   "cell_type": "markdown",
   "metadata": {
    "slideshow": {
     "slide_type": "subslide"
    }
   },
   "source": [
    "### Cas des EDO linéaires\n",
    "\n",
    "Calculer la résolvante est une **très** mauvaise idée. \n",
    "\n",
    "\n",
    "\n",
    "[[Hairer et al 1993 p. 64](#cite-ErnstHairer1993a)]"
   ]
  },
  {
   "cell_type": "markdown",
   "metadata": {
    "slideshow": {
     "slide_type": "skip"
    }
   },
   "source": [
    "<!--bibtex\n",
    "\n",
    "@book{agarwal2008a,\n",
    "\tAuthor = {R.P. Agarwal and D. O'Regan},\n",
    "\tPublisher = {Springer},\n",
    "\tTitle = {An introduction to ordinary differential equations},\n",
    "\tYear = {2008}}\n",
    "\n",
    " \n",
    "@book{benzoni2010a,\n",
    "\tAuthor = {Sylvie Benzoni-Gavage},\n",
    "\tPublisher = {Dunod},\n",
    "\tTitle = {Calcul diff{\\'e}rentiel et équations diff{\\'e}rentielles},\n",
    "\tYear = {2010}}\n",
    "\n",
    "@book{boularas2009a,\n",
    "\tAuthor = {Driss Boularas and Daniel Fredon and Daniel Petit},\n",
    "\tPublisher = {Dunod},\n",
    "\tTitle = {Mini Manuel de Mathématiques pour les sciences de la vie et de l'environnement},\n",
    "\tYear = {2009}}\n",
    "\n",
    "@book{demailly2006a,\n",
    "\tAuthor = {Demailly, J.P.},\n",
    "\tOpturl = {http://books.google.fr/books?id=2yTLzzm3N6kC},\n",
    "\tPublisher = {EDP Sciences},\n",
    "\tTitle = {Analyse num{\\'e}rique et équations fiff{\\'e}rentielles},\n",
    "\tYear = {2006}}\n",
    "    \n",
    "@book{ErnstHairer1993a,\n",
    "\tAuthor = {E. Hairer and S. P. N{\\o}rsett and G. Wanner},\n",
    "\tEdition = {Second},\n",
    "\tPublisher = {Springer},\n",
    "\tTitle = {Solving Ordinary Differential Equations I : Nonstiff Problems},\n",
    "\tYear = {1993}}\n",
    "\n",
    "\n",
    "@book{jeffrey2010a,\n",
    "\tAuthor = {Alan Jeffrey},\n",
    "\tPublisher = {Springer Netherlands},\n",
    "\tTitle = {Matrix Operations for Engineers and Scientists: An Essential Guide in Linear Algebra},\n",
    "\tYear = {2010}}\n",
    "\n",
    "\n",
    "@book{johansson2015a,\n",
    "\tAuthor = {Robert Johansson},\n",
    "\tPublisher = {Apress},\n",
    "\tTitle = {Numerical Python. A Practical Techniques Approach for Industry},\n",
    "\tYear = {2015}}\n",
    "    \n",
    "    \n",
    "\n",
    "\n",
    "\n",
    "\n",
    "-->"
   ]
  },
  {
   "cell_type": "markdown",
   "metadata": {
    "slideshow": {
     "slide_type": "slide"
    }
   },
   "source": [
    "# References\n",
    "\n",
    "<a name=\"cite-benzoni2010a\"/><sup>[^](#ref-1) [^](#ref-5) </sup>Sylvie Benzoni-Gavage. 2010. _Calcul diff&eacute;rentiel et équations diff&eacute;rentielles_.\n",
    "\n",
    "<a name=\"cite-demailly2006a\"/><sup>[^](#ref-2) </sup>Demailly, J.P.. 2006. _Analyse num&eacute;rique et équations fiff&eacute;rentielles_.\n",
    "\n",
    "<a name=\"cite-boularas2009a\"/><sup>[^](#ref-3) </sup>Driss Boularas and Daniel Fredon and Daniel Petit. 2009. _Mini Manuel de Mathématiques pour les sciences de la vie et de l'environnement_.\n",
    "\n",
    "<a name=\"cite-agarwal2008a\"/><sup>[^](#ref-4) [^](#ref-6) [^](#ref-8) </sup>R.P. Agarwal and D. O'Regan. 2008. _An introduction to ordinary differential equations_.\n",
    "\n",
    "<a name=\"cite-jeffrey2010a\"/><sup>[^](#ref-7) </sup>Alan Jeffrey. 2010. _Matrix Operations for Engineers and Scientists: An Essential Guide in Linear Algebra_.\n",
    "\n",
    "<a name=\"cite-johansson2015a\"/><sup>[^](#ref-9) </sup>Robert Johansson. 2015. _Numerical Python. A Practical Techniques Approach for Industry_.\n",
    "\n",
    "<a name=\"cite-ErnstHairer1993a\"/><sup>[^](#ref-10) </sup>E. Hairer and S. P. N\\orsett and G. Wanner. 1993. _Solving Ordinary Differential Equations I : Nonstiff Problems_.\n",
    "\n"
   ]
  },
  {
   "cell_type": "markdown",
   "metadata": {
    "collapsed": true
   },
   "source": [
    "\n"
   ]
  }
 ],
 "metadata": {
  "anaconda-cloud": {},
  "celltoolbar": "Slideshow",
  "kernelspec": {
   "display_name": "Python 3",
   "language": "python",
   "name": "python3"
  },
  "language_info": {
   "codemirror_mode": {
    "name": "ipython",
    "version": 3
   },
   "file_extension": ".py",
   "mimetype": "text/x-python",
   "name": "python",
   "nbconvert_exporter": "python",
   "pygments_lexer": "ipython3",
   "version": "3.6.4"
  },
  "latex_envs": {
   "LaTeX_envs_menu_present": true,
   "autocomplete": true,
   "bibliofile": "biblio.bib",
   "cite_by": "apalike",
   "current_citInitial": 1,
   "eqLabelWithNumbers": true,
   "eqNumInitial": 1,
   "hotkeys": {
    "equation": "Ctrl-E",
    "itemize": "Ctrl-I"
   },
   "labels_anchors": false,
   "latex_user_defs": false,
   "report_style_numbering": false,
   "user_envs_cfg": false
  },
  "nbpresent": {
   "slides": {
    "2370c56b-61f1-404c-af0f-84176bc33cff": {
     "id": "2370c56b-61f1-404c-af0f-84176bc33cff",
     "prev": "7f712783-530e-4ce2-877c-8e9a465e992a",
     "regions": {
      "2fa00e09-8012-4978-86ca-177a886cc672": {
       "attrs": {
        "height": 0.8,
        "width": 0.8,
        "x": 0.1,
        "y": 0.1
       },
       "content": {
        "cell": "fb0bd62c-c76b-4387-a64e-21049cbfc11a",
        "part": "whole"
       },
       "id": "2fa00e09-8012-4978-86ca-177a886cc672"
      }
     }
    },
    "3745cb09-8bfb-46c4-9f28-09cca6df92e9": {
     "id": "3745cb09-8bfb-46c4-9f28-09cca6df92e9",
     "prev": "2370c56b-61f1-404c-af0f-84176bc33cff",
     "regions": {
      "ed03c2f3-604e-481e-aeb1-10c05f38efec": {
       "attrs": {
        "height": 0.8,
        "width": 0.8,
        "x": 0.1,
        "y": 0.1
       },
       "content": {
        "cell": "20ac6e31-554f-4c02-a4f2-a4ab6aa70189",
        "part": "whole"
       },
       "id": "ed03c2f3-604e-481e-aeb1-10c05f38efec"
      }
     }
    },
    "4b353193-8407-43e4-97e3-9521567f2f8c": {
     "id": "4b353193-8407-43e4-97e3-9521567f2f8c",
     "prev": null,
     "regions": {
      "9c442883-364e-47f7-8b98-6ad200b042d2": {
       "attrs": {
        "height": 0.8,
        "width": 0.8,
        "x": 0.1,
        "y": 0.1
       },
       "content": {
        "cell": "d038ae08-ee50-4ad2-9aa5-3dc09b3cb033",
        "part": "whole"
       },
       "id": "9c442883-364e-47f7-8b98-6ad200b042d2"
      }
     }
    },
    "7f712783-530e-4ce2-877c-8e9a465e992a": {
     "id": "7f712783-530e-4ce2-877c-8e9a465e992a",
     "prev": "4b353193-8407-43e4-97e3-9521567f2f8c",
     "regions": {
      "72edcf47-fb69-45dd-8444-08d2b40e4d28": {
       "attrs": {
        "height": 0.8,
        "width": 0.8,
        "x": 0.1,
        "y": 0.1
       },
       "content": {
        "cell": "9465da87-3279-4417-aaa7-f66e7f568c1b",
        "part": "whole"
       },
       "id": "72edcf47-fb69-45dd-8444-08d2b40e4d28"
      }
     }
    },
    "a4990c21-44c2-4634-8518-934edff8e434": {
     "id": "a4990c21-44c2-4634-8518-934edff8e434",
     "prev": "3745cb09-8bfb-46c4-9f28-09cca6df92e9",
     "regions": {
      "a8361832-346e-4814-9bd0-076f589af4d4": {
       "attrs": {
        "height": 0.8,
        "width": 0.8,
        "x": 0.1,
        "y": 0.1
       },
       "content": {
        "cell": "e129dde5-54aa-4ea4-94ce-1f9d1e7ad431",
        "part": "whole"
       },
       "id": "a8361832-346e-4814-9bd0-076f589af4d4"
      }
     }
    }
   },
   "themes": {}
  }
 },
 "nbformat": 4,
 "nbformat_minor": 1
}
