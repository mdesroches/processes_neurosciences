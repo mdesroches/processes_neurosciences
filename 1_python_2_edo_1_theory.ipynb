{
 "cells": [
  {
   "cell_type": "markdown",
   "metadata": {
    "nbpresent": {
     "id": "d038ae08-ee50-4ad2-9aa5-3dc09b3cb033"
    },
    "slideshow": {
     "slide_type": "slide"
    }
   },
   "source": [
    "# DIFFERENTIAL EQUATIONS\n"
   ]
  },
  {
   "cell_type": "markdown",
   "metadata": {
    "slideshow": {
     "slide_type": "slide"
    }
   },
   "source": [
    "\n",
    "---\n",
    "## Definition, existence and uniqueness\n",
    "---"
   ]
  },
  {
   "cell_type": "markdown",
   "metadata": {
    "slideshow": {
     "slide_type": "subslide"
    }
   },
   "source": [
    "Consider an **[ordinary differential equation](https://en.wikipedia.org/wiki/Ordinary_differential_equation)** of the first order:\n",
    "\n",
    "\\begin{align*}\n",
    "  \\dot x(t) = f(t,x(t))\\,,\\ t\\geq 0\\,,\\ x(0)=x_{0}\n",
    "  \\tag{ODE}\n",
    "\\end{align*}\n",
    "\n",
    "where $x (t)\\in \\mathbb{R}^d $ and $ f: \\mathbb{R}_+ \\times \\mathbb{R}^d \\to \\mathbb{R}^d$. $x_0 $ is the **initial condition**. When $f$ does not depend on $t$, the ODE is called **autonomous**, when $f$ is linear or affine in $x$, the ODE is said **linear**.\n",
    "\n",
    "The existence and the uniqueness of a solution of an ODE are ensured by the [Picard–Lindelöf theorem or Cauchy–Lipschitz theorem](https://en.wikipedia.org/wiki/Picard–Lindelöf_theorem) and the [Peano existence theorem](https://en.wikipedia.org/wiki/Peano_existence_theorem) [Cauchy-Lipschitz theorem](https://fr.wikipedia.org/wiki/Cauchy-Lipschitz theorem). EDO is a local problem in time, we present here some elements in the simplest case of existence and uniqueness of a global solution assuming that $f$ is globally Lipschitz."
   ]
  },
  {
   "cell_type": "markdown",
   "metadata": {
    "slideshow": {
     "slide_type": "subslide"
    }
   },
   "source": [
    "**Hypothesis:**  The function $f$ is *globally Lipschitz* in $x$ uniformly in $t$, if there is a constant $ L $ such that:\n",
    "\n",
    "\\begin{align*}\n",
    "  |f(t,x)-f(t,y)| \\leq L\\,|x-y|\\,,\\ \\forall t,x,y\\,.\n",
    "\\end{align*}\n",
    "\n",
    "<img src=\"./images/lipschitz2.pdf\" alt=\"Lipschitz\" style=\"width: 200px;\"/>\n",
    "\n",
    "A Lipschitz function is continuous but not necessarily differentiable. When $ f $ admits a derivative uniformly bounded by a constant $ C $, ie $ | \\partial f (t, x) / \\partial x | \\leq C $ for all $ (t, x) $, then it is Lipschitz with constant $ C $.\n",
    "\n",
    "We will say that the (ODE) admits a **unique solution** if, given two functions $x_i (t)$ satisfying (ODE), $ i = 1,2 $, then $ x_1 (t) = x_2 (t) $ for all $ t \\geq 0 $.\n",
    "\n",
    "**Proposition (existence and uniqueness):** Suppose that $ (t, x) \\to f(t, x) $ is continuous and globally Lipschitz in $ x $ uniformly in $ t $, then (ODE) admits one and only one solution."
   ]
  },
  {
   "cell_type": "markdown",
   "metadata": {
    "slideshow": {
     "slide_type": "slide"
    }
   },
   "source": [
    "**Lemma ([Grönwall's inequality](https://en.wikipedia.org/wiki/Grönwall%27s_inequality)):** Let $I=[a,\\infty]$ or $[a,b]$ or $[a,b[$ with $a<b$. \n",
    "\n",
    "Let $ \\alpha $, $ \\beta $, $ u $ real functions defined on $ I $. We assume that $ \\beta $ and $ u $ are continuous and that the negative part of $ \\alpha $ is integrable over any closed and bounded subinterval of $ I $. If $ \\beta \\geq 0 $ and $u$ _statisfy_:\n",
    "\\begin{align*}\n",
    "u(t) \\leq \\alpha(t) + \\int_a^t \\beta(s) \\,u(s)\\,\\mathrm{d}s,\\qquad \\forall t\\in I\n",
    "\\end{align*}\n",
    "then\n",
    "\\begin{align*}\n",
    "u(t) \\le \\alpha(t) + \\int_a^t\\alpha(s)\\,\\beta(s)\\exp\\biggl(\\int_s^t\\beta(r)\\,\\mathrm{d}r\\biggr)\\mathrm{d}s,\\qquad t\\in I.\n",
    "\\end{align*}\n",
    "If moreover $\\alpha$ is non decreasing then:\n",
    "\\begin{align*}\n",
    "u(t) \\leq \\alpha(t)\\exp\\biggl(\\int_a^t\\beta(s)\\,\\mathrm{d}s\\biggr),\\qquad t\\in I.\n",
    "\\end{align*}\n",
    "\n",
    "**Uniqueness** uses Gronwall's inequality. It shows that if $ x_ {i} (\\cdot) $, $ i = 1,2 $, are two solutions of (ODE), then the fact that $f$ is globally Lipschitzian implies that:\n",
    "\n",
    "$$\n",
    "   |x_{1}(t)-x_{2}(t)| \\leq e^{L\\,|t|}\\,|x_{1}(0)-x_{2}(0)|\\,,\\forall t\\geq 0\\,.\n",
    "$$\n",
    "\n",
    "\n",
    "So if $x_{1}(0)=x_{2}(0)=x_0$ then $x_{1}(t)=x_{2}(t)$ for all $t$. "
   ]
  },
  {
   "cell_type": "markdown",
   "metadata": {
    "slideshow": {
     "slide_type": "subslide"
    }
   },
   "source": [
    "There are two classical methods for exhibiting solutions of the Cauchy problem and thus showing the **existence** of a solution. We will see further the method of **Euler approximation**, another classic approach, powerful but less constructive, consists in calling upon **successive approximations of Picard**. Consider $ x ^ {(0)} (t) $ given and continuous, for example $ x ^ {(0)} (t) = 0 $ for all $ t $, and we put:\n",
    "\n",
    "$$\n",
    "    x^{(n+1)} = \\mathcal{I} x^{(n)}\n",
    "$$\n",
    "\n",
    "where $ \\mathcal {I} $ is an operator which associate to a function $ x: \\mathbb R _ + \\to \\mathbb R ^ d $ another function $ \\mathcal {I} x: \\mathbb R _ + \\to \\mathbb R ^ d $ defined by\n",
    "\n",
    "\n",
    "$$\n",
    "   [\\mathcal{I} x](t) = x_{0} + \\int_{t_{0}}^t f(s,x(s))\\,{\\rm d} s\\,,\\ t\\geq 0\\,.\n",
    "$$\n",
    "\n",
    "The solution of (EDO) then appears as a [fixed point](https://fr.wikipedia.org/wiki/Point_fixe) of the $ \\mathcal {I} $ operator, ie $ x $ such that $ x = \\mathcal {I} x $. The demonstration of the existence of a solution of (EDO) then consists in demonstrating the existence of a fixed point to the operator $ \\mathcal I $  by proving  that this operator is contracting."
   ]
  },
  {
   "cell_type": "markdown",
   "metadata": {
    "slideshow": {
     "slide_type": "subslide"
    }
   },
   "source": [
    "### Example of non-uniqueness:\n",
    "\n",
    "We consider the autonomous ODE:\n",
    "\n",
    "$$\n",
    "  \\dot x (t) = 2 \\, \\sqrt {x (t)} \\,, \\ x (0) = 0 \\,.\n",
    "$$\n",
    "\n",
    "It is clear that $ x_{1} (t) = 0 $, $ t \\geq 0 $ is a solution of this equation as well as $ x_ {2} (t) = t^ 2 $, $ t \\geq 0 $ . By a technique of *gluing* consisting in putting end to end these two solutions, one can cosntruire an infinity of solutions. Indeed:\n",
    "\n",
    "$$\n",
    "  x_ {1} (t) = \\left\\{\n",
    "  \\begin{array}{lt}\n",
    "   0 \\,, & 0 \\leq t \\leq a\n",
    "   \\\\\n",
    "   (t-a)^2 \\,, & t \\geq a\n",
    "  \\end{array}\n",
    "  \\right.\n",
    "$$\n",
    "\n",
    "defined a different solution for all $ a \\geq 0 $.\n",
    "Here $ f (x) = 2 \\, \\sqrt {x} $ is not globally uniformly Lipschitz because of its $ O $ behavior."
   ]
  },
  {
   "cell_type": "code",
   "execution_count": 6,
   "metadata": {},
   "outputs": [
    {
     "data": {
      "image/png": "[encoded data removed]",
      "text/plain": [
       "<Figure size 432x288 with 1 Axes>"
      ]
     },
     "metadata": {
      "needs_background": "light"
     },
     "output_type": "display_data"
    }
   ],
   "source": [
    "import numpy as np\n",
    "import matplotlib.pyplot as plt\n",
    "\n",
    "%matplotlib inline\n",
    "\n",
    "a = 3\n",
    "t0, t1 = 0, 10\n",
    "the_time = np.linspace(t0,t1,300, endpoint=True)\n",
    "curve = (the_time-a)**2\n",
    "curve[the_time-a<0] = 0\n",
    "\n",
    "plt.plot(the_time, curve)\n",
    "plt.plot([t0,a],[0,0])\n",
    "plt.axvline(a, color='b', linestyle='dashed', linewidth=1)\n",
    "plt.show()"
   ]
  },
  {
   "cell_type": "markdown",
   "metadata": {
    "slideshow": {
     "slide_type": "subslide"
    }
   },
   "source": [
    "### Example of non-existence of a global solution\n",
    "\n",
    "\n",
    "Consider a population-growth model -unrealistic- where the per capita growth rate is linear in population size:\n",
    "\n",
    "$$\n",
    "  \\dot x (t) = \\lambda \\, x (t)^2 \\,, \\ x (0) = x_ {0}\n",
    "$$\n",
    "\n",
    "We can verify that the solution of this equation is:\n",
    "\n",
    "$$\n",
    "  x_ {t} = \\frac{x_ {0}} {1- \\lambda \\, x_ {0} \\, t}\n",
    "$$\n",
    "\n",
    "which is set to $ t \\in [0, \\frac{1}{\\lambda \\, x_ {0}} )$ and we actually have $ x (t) \\uparrow \\infty $ when $ t \\uparrow \\frac { 1} {\\lambda \\, x_ {0}} $. It is not possible to extend the solution to any $ t> 0 $ since $ f (x) = \\lambda \\, x ^ 2 $ is not growing at most linear, so not globally Lipschitz, because of his behavior in $ + \\infty $.\n",
    "\n"
   ]
  },
  {
   "cell_type": "code",
   "execution_count": 8,
   "metadata": {},
   "outputs": [
    {
     "data": {
      "image/png": "[encoded data removed]",
      "text/plain": [
       "<Figure size 432x288 with 1 Axes>"
      ]
     },
     "metadata": {
      "needs_background": "light"
     },
     "output_type": "display_data"
    }
   ],
   "source": [
    "import numpy as np\n",
    "import matplotlib.pyplot as plt\n",
    "lbd, x0 = 2, 1\n",
    "t0, t1 = 0, 1/(lbd*x0)\n",
    "the_time = np.linspace(t0,t1,300, endpoint=False)\n",
    "\n",
    "curve = lambda t: x0/(1-lbd*x0*t)\n",
    "\n",
    "plt.plot(the_time, curve(the_time))\n",
    "plt.plot([t1,t1],[0,100], linestyle='--')\n",
    "plt.ylim([0,100])\n",
    "plt.show()"
   ]
  },
  {
   "cell_type": "markdown",
   "metadata": {
    "slideshow": {
     "slide_type": "slide"
    }
   },
   "source": [
    "---\n",
    "\n",
    "## Linear ODE\n",
    "\n",
    "---"
   ]
  },
  {
   "cell_type": "markdown",
   "metadata": {},
   "source": [
    "\n",
    "Consider the linear ODE:\n",
    "\n",
    "\\begin{align*}\n",
    "  \\dot x(t) = A \\,x(t) \\,,\\hskip 1em \\ t\\geq 0\\,,\\ x(0)=x_{0} \\tag{EDO L1}\n",
    "\\end{align*}\n",
    "\n",
    "where $ x (t) $ is of dimension $ d $ and $ A $ is a constant matrix of dimension $ d \\times d $. We note that the function $ f (x) = A \\, x $ is globally Lipschitz and therefore fits in the previous frame. To understand how the solution of this equation is constructed, we can take again the method of construction of successive approximations of Picard. We give $x^{(0)}(t)=0$ for all $ t $, and we let:\n",
    "\n",
    "\\begin{align*}\n",
    "  x^{(n)}(t) = x_0 + A \\,\\int_0^t x^{(n-1)}(s) \\,{\\rm d}s\n",
    "\\end{align*}\n",
    "\n",
    "so\n",
    "\n",
    "\n",
    "\\begin{align*}\n",
    "  x^{(n)}(t) &= x_0 + A \\,\\int_0^t  \\big[x_0 + A \\,\\int_0^{t_1} x^{(n-2)}(t_2) \\,{\\rm d}t_2\\big] \\,{\\rm d}t_1\\\\\n",
    "  &= x_0 + t\\,A\\,x_0 + A^2 \\,\\int_0^t  \\int_0^{t_1} x^{(n-2)}(t_2) \\,{\\rm d}t_2 \\,{\\rm d}t_1\\\\\n",
    "  &= x_0 + t\\,A\\,x_0 + \\frac{t^2}{2}\\,A^2\\,x_0+ A^3 \\,\\int_0^t  \\int_0^{t_1} \\int_0^{t_2} x^{(n-3)}(t_3) \\,{\\rm d}t_3 \\,{\\rm d}t_2 \\,{\\rm d}t_1\\\\\n",
    "  &= x_0 + t\\,A\\,x_0 + \\frac{t^2}{2}\\,A^2\\,x_0+  \\frac{t^3}{3!}\\,A^3\\,x_0+ \\cdots+ \\frac{t^{n-1}}{(n-1)!}\\,A^{n-1}\\,x_0\n",
    "\\end{align*}\n",
    "\n",
    "\n",
    "where $A^n=A\\times\\cdots\\times A$ ($n$ times). When $ n \\to \\infty $ we have already indicated that $ x^{(n)}(t) $ converges to the solution $x(t) $ of (ODE L1) and we get:\n",
    "\\begin{align*}\n",
    "  x(t) = \\big[I + t\\,A + \\frac{t^2}{2}\\,A^2 +  \\frac{t^3}{3!}\\,A^3+ \\cdots \\big] \\,x_0\n",
    "\\end{align*}\n",
    "\n",
    "We define the [matrix exponential](https://en.wikipedia.org/wiki/Matrix_exponential):\n",
    "\n",
    "\\begin{align*}\n",
    "  e^{t\\,A} =  I + t\\,A + \\frac{t^2}{2}\\,A^2 +  \\frac{t^3}{3!}\\,A^3+ \\cdots \n",
    "\\end{align*}\n",
    "\n",
    "we finally get:\n",
    "\n",
    "\\begin{align*}\n",
    "  x(t) = e^{t\\,A} \\,x_0\n",
    "\\end{align*}\n"
   ]
  },
  {
   "cell_type": "markdown",
   "metadata": {},
   "source": [
    "### Some properties of the exponential matrix\n",
    "\n",
    "The exponential matrix $ e ^ M $ of a matrix $ M $ of dimension $ d \\times d $ is defined by:\n",
    "\\begin{align*}\n",
    "  e^{M} =  I + M + \\frac{1}{2}\\,M^2 +  \\frac{1}{3!}\\,M^3+ \\cdots \n",
    "\\end{align*}\n",
    "and satisfies\n",
    "\n",
    "- $e^{0\\,M}=I$\n",
    "- $e^{t\\,M}\\times e^{s\\,M}=e^{(t+s)\\,M}$\n",
    "- if $M_{1}$ and $M_{2}$ commute (i.e. $M_1\\,M_2=M_2\\,M_1$) then $e^{M_{1}}\\,e^{M_{2}} = e^{M_{2}}\\,e^{M_{1}} = e^{M_{1}+M_{2}}$\n",
    "- $e^M$ is always regular and $[e^M]^{-1}=e^{-M}$ \n",
    "- ${\\textstyle\\frac{\\rm d}{{\\rm d}t}} e^{t\\,M}= M\\,e^{t\\,M}$\n"
   ]
  },
  {
   "cell_type": "code",
   "execution_count": 9,
   "metadata": {},
   "outputs": [
    {
     "data": {
      "text/plain": [
       "0.0"
      ]
     },
     "execution_count": 9,
     "metadata": {},
     "output_type": "execute_result"
    }
   ],
   "source": [
    "from scipy.linalg import expm, norm\n",
    "\"exponential of a matrix, norm of a matrix\"\n",
    "matrix_zero    = np.zeros((20,20))\n",
    "matrice_identity = np.eye(20)\n",
    "norm(expm(matrix_zero) - matrice_identity)"
   ]
  },
  {
   "cell_type": "markdown",
   "metadata": {},
   "source": [
    "### Variation of parameters\n",
    "\n",
    "\n",
    "The solution of the linear ODE:\n",
    "\n",
    "\\begin{align*}\n",
    "  \\dot x(t) = A \\,x(t) + b(t) \\,,\\hskip 1em \\ t\\geq 0\\,, \\tag{ODE L2}\n",
    "\\end{align*}\n",
    "can be obtained by the [Variation of parameters](hhttps://en.wikipedia.org/wiki/Variation_of_parameters) technique which consists in looking for a solution $ x (t) $ of (ODE L2) which is of the form $ x (t) = e ^ {t \\, A} \\, y (t) $, the goal is to determine $ y (t) $ so that $ x (t) $ is the solution of (ODE L2). The derivative of $ x (t) $ is:\n",
    "\n",
    "\\begin{align*}\n",
    "  { \\frac{\\rm d}{{\\rm d}t}} x(t) = {  \\frac{\\rm d}{{\\rm d}t}}[e^{t\\,A}\\,y(t)] \n",
    "  = {  \\frac{\\rm d e^{t\\,A}}{{\\rm d}t}} \\, y(t) + e^{t\\,A}\\, \\dot y(t)\n",
    "  = A\\, e^{t\\,A} \\, y(t) + e^{t\\,A}\\, \\dot y(t)\n",
    "\\end{align*}\n",
    "\n",
    "but according to (ODE L2) $\\dot x(t)=A \\,x(t) + b(t)$, so:\n",
    "\n",
    "\\begin{align*}\n",
    "  A \\,x(t) + b(t) = A\\, x(t) + e^{t\\,A}\\, \\dot y(t)\n",
    "\\end{align*}\n",
    "hence  $\\dot y(t) = e^{-t\\,A}\\,b(t)$ and as $x(0)=I\\,y(0)=x_0$, we get $y(t)=x_0+\\int_0^t e^{-s\\,A}\\,b(s){\\rm d} s$ and:\n",
    "\n",
    "\\begin{align*}\n",
    "  x(t) = e^{t\\,A}\\,x_0 + e^{t\\,A} \\int_0^t  e^{-s\\,A}\\,b(s){\\rm d} s\n",
    "\\end{align*}\n",
    "\n",
    "which is the solution of (ODE L2).\n",
    "\n"
   ]
  },
  {
   "cell_type": "markdown",
   "metadata": {},
   "source": [
    "### Fundamental solution\n",
    "\n",
    "Consider the linear ODE:\n",
    "\n",
    "\\begin{align*}\n",
    "  \\dot x(t) = A(t) \\,x(t)  \\,,\\hskip 1em \\ t\\geq 0\\,, \\tag{EDO L3}\n",
    "\\end{align*}\n",
    "\n",
    "\n",
    "where the matrix continually depends on the time $ t $. The previous approach is generalized by introducing the **fundamental solution** which is a matrix family $ \\Phi (t, s) $ indexed by $ t, s \\geq 0 $ defined by:\n",
    "\n",
    "\n",
    "\\begin{align*}\n",
    "  {\\textstyle  \\frac{\\rm d}{{\\rm d}t}} \\Phi(t,s) = A(t) \\,\\Phi(t,s)  \\,,\\hskip 1em \\ t\\geq s\\,,\\, \\Phi(s,s)=I \\tag{résolvante}\n",
    "\\end{align*}\n",
    "\n",
    "We can check that $ \\Phi (t, s) = \\Phi (t, u) \\times \\Phi (u, s) $ and that $ [\\Phi (t, s)] ^ 1 = \\Phi (s, t) $. Although there is no explicit fundamental solution, we can show that the solution $ x (t) $ of (EDO L3) is expressed as a function of the fundamental solution in the following way:\n",
    "\n",
    "\\begin{align*}\n",
    "  x(t) = \\Phi(t,0)\\,x_0\n",
    "\\end{align*}\n",
    "\n",
    "and that the solution  $x(t)$ of\n",
    "\n",
    "\n",
    "\\begin{align*}\n",
    "  \\dot x(t) = A(t) \\,x(t)  + b(t)\n",
    "\\end{align*}\n",
    "\n",
    "is given by\n",
    "\n",
    "\\begin{align*}\n",
    "  x(t) = \\Phi(t,0)\\,x_0 + \\Phi(t,0) \\int_0^t  \\Phi(0,s)\\,b(s){\\rm d} s\n",
    "\\end{align*}"
   ]
  },
  {
   "cell_type": "markdown",
   "metadata": {
    "slideshow": {
     "slide_type": "slide"
    }
   },
   "source": [
    "---\n",
    "## Asymptotic behavior\n",
    "---"
   ]
  },
  {
   "cell_type": "markdown",
   "metadata": {
    "slideshow": {
     "slide_type": "subslide"
    }
   },
   "source": [
    "We consider the following autonomous Cauchy problem:\n",
    "\n",
    "\\begin{align*}\n",
    "  \\dot x(t) = f(x(t))\\,,\\ t\\geq 0\\,,\\ x(0)=x_{0} \\tag{EDO Cauchy}\n",
    "\\end{align*}\n",
    "\n",
    "for which it is assumed that there is a global solution. For example, we can assume that $ f $ is globally Lipschitz.\n",
    "\n",
    "Suppose that the solution $ x (t) $ of (ODE) converges to a point $ x ^ * $ of $ \\mathbb {R} ^ d $, then necessarily $ x (t) $ will stop evolving at the end of a \"certain time\" so that $ \\dot x (t) = 0 $ and therefore necessarily $ f (x ^ *) = 0 $:\n",
    "\n",
    "\n",
    "> A point $x^*\\in\\mathbb R^d$ s.t. $f(x^*)=0$ is called **equilibrium point** of  (ODE).\n",
    "\n",
    "First, without addressing the question of the asymptotic behavior of the solution of the ODE, one can seek to determine the equilibrium points of the ODE.\n",
    "\n",
    "Second, we can try to characterize the nature of these equilibrium points:\n",
    "\n",
    ">An equilibrium point $x^*$ i said **stable** if:\n",
    ">\\begin{align*}\n",
    "  \\forall \\epsilon>0\\,,\\ \\exists \\eta>0\\,:\\ \n",
    "  |x_{0}-x^*| <\\eta \\Rightarrow |x(t)-x^*|<\\epsilon\\,,\\ \\forall t\\geq 0\\,.\n",
    "\\end{align*}\n",
    "> If moreover:\n",
    "> \\begin{align*}\n",
    "  |x(t)-x^*|\\to 0\\textrm{ as }t\\to \\infty\n",
    "\\end{align*}\n",
    "> the the point is said  **asymptotically stable**. An equilibrium point that is not stable is **unstable**.\n",
    "\n",
    "\n",
    "There is a fairly general method of analyzing the stability of ODEs called [Lyapounov](https://en.wikipedia.org/wiki/Lyapunov_stability) method, it is powerful but quite difficult to use in practice.\n",
    "\n",
    "We will present here a local study of the stability which consists in the linearization of (ODE) around the equilibrium point $ x ^ * $. This amounts to studying a linear system. We therefore present the notion of stability in the linear framework and we will return to the linear case later.\n",
    "\n"
   ]
  },
  {
   "cell_type": "markdown",
   "metadata": {
    "slideshow": {
     "slide_type": "subslide"
    }
   },
   "source": [
    "### Linear cas\n",
    "\n",
    "We consider the following linear autonomous Cauchy problem:\n",
    "\\begin{align}\\label{eqCauchyLin}\n",
    "  \\dot x(t) = A\\,x(t)\\,,\\ t\\geq 0\\,,\\ x(0)=x_{0}\n",
    "  \\tag{ODE Cauchy linear}\n",
    "\\end{align}\n",
    "The point $ 0 $ is a point of equilibrium of this system. Note that:\n",
    "\\begin{align*}\n",
    "  x(t) \n",
    "  = e^{t\\,A}\\,x_0\n",
    "  \\textstyle = (I+t\\,A+\\frac{t^2}{2}\\,A^2+\\frac{t^3}{3!}\\,A^3+\\cdots)\\,x_0\n",
    "\\end{align*}\n",
    "\n",
    "now suppose that $ x_0 $ is such that there exists a real number $ \\lambda $ (even a complex, see infra) satisfying $ A \\, x_0 = \\lambda \\, x_0 $ so $ A ^ n \\, x_0 = \\lambda ^ n \\, x_0 $ and:\n",
    "\n",
    "\n",
    "\\begin{align*}\n",
    "  x(t) \n",
    "  \\textstyle\n",
    "  = x_0+t\\,\\lambda\\,x_0+\\frac{(t\\,\\lambda)^2}{2}\\,x_0+\\frac{(t\\,\\lambda)^3}{3!}\\,x_0+\\cdots\n",
    "  = e^{\\lambda\\,t}\\,x_0\n",
    "\\end{align*}\n",
    "\n",
    "So when $ \\lambda <0 $ (at least its real part is strictly negative in the complex case) then $ x (t) $ converges exponentially fast to $ 0 $.\n",
    "\n",
    "The $ x_0 $'s such that there exists $ A \\, x_0 = \\lambda \\, x_0 $ are vectors of $ \\mathbb R ^ d $ which are not modified by the matrix $ A $ (up to a proportionality coefficient, possibly negative), they are called **eigenvectors** of the matrices $ A $ and the $ \\lambda $ the **eigenvalues** of the matrix $ A $.\n"
   ]
  },
  {
   "cell_type": "markdown",
   "metadata": {
    "slideshow": {
     "slide_type": "subslide"
    }
   },
   "source": [
    "**Eigenvalues and eigenvectors of a matrix**\n",
    "\n",
    "\n",
    "*Note: In mathematics, these concepts are traditionally introduced in the context of endomorphisms. Endormorphisms on $ \\mathbb R ^ d $ are simply the linear applications of $ \\mathbb R ^ d $ in itself, but these applications are all of the form $ x \\to A \\, x $ for a certain square matrix $ A $ of size $ d \\times d $; we can identify these endomorphisms to the associated matrices and thus introduce these concepts directly onto the matrices. However, most references in French on the subject refuse this shortcut, so we propose a reference in English [Jeffrey 2010](#cite-jeffrey2010a).*\n",
    "\n",
    "\n",
    "Given a real matrix $ A $ of dimension $ n \\times n $, a scalar $ \\lambda \\neq 0 $ will be called **[eigenvalues](hhttps://en.wikipedia.org/wiki/Eigenvalues_and_eigenvectors)** of $A$ when there is $ x \\in \\mathbb R ^ d $ non-zero such as\n",
    "\n",
    "\n",
    "\\begin{align*}\n",
    "   A\\,x = \\lambda x\n",
    "\\end{align*}\n",
    "\n",
    "the vector $ x $ is then called **eigenvector** of $ A $ associated with the eigenvalue $ \\lambda $.\n",
    "\n",
    "\n",
    "It is possible to find a non-zero $x$  solution of $ A \\, x = \\lambda \\, x $ if and only if the [**determinant**](https://en.wikipedia.org/wiki/Determinant) of the $ A - \\lambda \\, I $ is null (when this determinant is non-zero, then the only $ x $ satisfying $ (A- \\lambda \\, I) \\, x = 0 $ is $ x = 0 $). We define the **spectrum** of the matrix $ A $ as:\n",
    "\n",
    "\\begin{align*}\n",
    "  Sp(A) := \\left\\{\\lambda\\in\\mathbb C\\,;\\, \\det(A-\\lambda\\,I)=0\\right\\}\n",
    "\\end{align*}\n",
    "\n",
    "note that\n",
    "\n",
    "\\begin{align*}\n",
    "   p_A(\\lambda) := \\det(A-\\lambda\\,I)\n",
    "\\end{align*}\n",
    "\n",
    "is a [**characteristic polynomial**](https://en.wikipedia.org/wiki/Characteristic_polynomial) of degree $ d $, and the eigenvalues are the roots of this polynomial ie solutions of:\n",
    "\n",
    "\\begin{align*}\n",
    "   p_A(\\lambda) = 0\n",
    "\\end{align*}\n",
    "\n",
    "called **characteristic equation**. The [Fundamental theorem of algebra](https://en.wikipedia.org/wiki/Fundamental_theorem_of_algebra) assures that the characteristic polynomial has $ d $ roots (possibly complex and not necessarily distinct).\n"
   ]
  },
  {
   "cell_type": "markdown",
   "metadata": {
    "slideshow": {
     "slide_type": "subslide"
    }
   },
   "source": [
    "Note that considering the solution of (ODE Cauchy linear) with a complex initial condition poses no problem.\n",
    "\n",
    "The point $ 0 $ is a point of equilibrium of (ODE Cauchy linear) and:\n",
    "\n",
    "\n",
    "- $0$ is asymptotically stable iff $Re(\\lambda)<0$ for all $\\lambda\\in Sp(A)$;\n",
    "- $0$ is stable iff for all $\\lambda\\in Sp(A)$:\n",
    "   - $Re(\\lambda)\\leq 0$;\n",
    "   - and when $Re(\\lambda) = 0$ then the geometric multiplicity of $ \\lambda $ corresponds to its algebraic multiplicity (the geometric multiplicity of $ \\lambda $ is the dimension of the kernel of $ A- \\lambda \\, I $, the algebraic multiplicity of $ \\lambda $ is the multiplicity as the root of the characteristic polynomial)\n",
    "\n",
    "This result is in fact based on the understanding of the fundamental matrix of the (ODE Cauchy linear) which is indeed given by [[Agarwal and O'Regan 2008](#cite-agarwal2008a) p. 133]:\n",
    "\n",
    "\\begin{align*}\n",
    "  \\Phi(t,0) = \\bigl[ e^{\\lambda_{1}\\,t}\\,v_{1},\\dots,e^{\\lambda_{n}\\,t}\\,v_{n}\\bigr]\n",
    "\\end{align*}\n",
    "\n",
    "where $ \\lambda_ {i} $ are the eigenvalues of $ A $ and $ v_ {i} $ the associated eigenvectors.\n"
   ]
  },
  {
   "cell_type": "markdown",
   "metadata": {
    "slideshow": {
     "slide_type": "subslide"
    }
   },
   "source": [
    "**Example 1**\n",
    "\n",
    "\\begin{align*}\n",
    "  \\frac{d}{dt}\\begin{pmatrix}x_1 \\\\ x_2 \\end{pmatrix} =\n",
    "  \\begin{pmatrix}0 & 1 \\\\ -1 & 0  \\end{pmatrix}\\,\n",
    "  \\begin{pmatrix}x_1 \\\\ x_2 \\end{pmatrix}\n",
    "\\end{align*}\n",
    "\n",
    "then\n",
    "\n",
    "\\begin{align*}\n",
    "\\det(A-\\lambda\\,I)  = \\det\\begin{pmatrix}-\\lambda & 1 \\\\ -1 & -\\lambda  \\end{pmatrix} = \\lambda^2+1\n",
    "\\end{align*}\n",
    "\n",
    "the characteristic polynomial has two complex roots $ \\lambda_1 = + i $ and $ \\lambda_2 = -i $. In fact $ 0 $ is not stable, to understand it suffices to remark that: $ A ^ {4n + 1} = A, \\, A ^ {4n + 2} = - I, \\, A ^ {4n + 3} = - A, \\, A ^ {4n + 4} = I $ for all $ n $, so:\n",
    "\n",
    "\\begin{align*}\n",
    "e^{t\\,a} = \\begin{pmatrix} \\cos(t)  & \\sin(t) \\\\ -\\sin(t)  & \\cos(t)  \\end{pmatrix}\n",
    "\\end{align*}\n",
    "\n",
    "Hence\n",
    "\n",
    "\\begin{align*}\n",
    "x(t) = e^{t\\,a} x(0) = \n",
    "   \\begin{pmatrix} \\cos(t)\\,x_1(0) +\\sin(t)\\,x_2(0) \\\\ -\\sin(t) \\,x_1(0)+ \\cos(t)\\,x_2(0)  \\end{pmatrix}\n",
    "\\end{align*}\n",
    "\n",
    "and\n",
    "\n",
    "\\begin{align*}\n",
    " |x(t)|^2= x_1(t)^2+x_2(t)^2 =\n",
    " [\\cos(t)\\,x_1(0) +\\sin(t)\\,x_2(0)]^2+[ -\\sin(t) \\,x_1(0)+ \\cos(t)\\,x_2(0)]^2 =\n",
    " |x(0)|^2\n",
    "\\end{align*}\n",
    "\n",
    "hence the trajectories of $ x (t) $ describe circles centered at 0 and with radius  $ | x (0) | ^ 2 $.\n",
    "\n",
    "\n",
    "\n"
   ]
  },
  {
   "cell_type": "markdown",
   "metadata": {},
   "source": [
    "### Example in dimension 2\n",
    "\n",
    "In dimension 2 we can have a precise classification of the points of equilibrium according to the determinant of $ A $ and its trace:\n",
    "\n",
    "\\begin{align*}\n",
    "\\textrm{tr}(A) = A_{1,1}+A_{2,2}+\\cdots+A_{d,d} \n",
    "\\end{align*}\n",
    "\n",
    "we get\n",
    "\n",
    "<img src=\"./images/classification_point_equilibre.png\" alt=\"Classification des points d'équilibre\" style=\"width: 800px;\"/>"
   ]
  },
  {
   "cell_type": "markdown",
   "metadata": {
    "slideshow": {
     "slide_type": "subslide"
    }
   },
   "source": [
    "### Non-linear case\n",
    "\n",
    "We consider the following nonlinear autonomous Cauchy problem:\n",
    "\n",
    "\\begin{align*}\n",
    "  \\dot x(t) = f(x(t))\\,,\\ t\\geq 0\\,,\\ x(0)=x_{0}\n",
    "  \\tag{EDO NL A}\n",
    "\\end{align*}\n",
    "\n",
    "suppose that $ x ^ * $ is a point of equilibrium and that $ f $ differentiable and continuous derivatives.\n",
    "\n",
    "\n",
    "We can assume that $ f (0) = 0 $ and therefore that $ x ^ * = 0 $ by changing the variable $ x \\to x-x ^ * $ in (ODE NL A). So we put ourselves in the case $ f (0) = 0 $ and we study the properties of the equilibrium point 0. We write $ J_f (0) $ the jacobian matrix of $ f $ at the equilibrium point $ 0 $ .\n",
    "\n",
    "\n",
    "**Exemple:** Les points d'équilibre de l'équation logistique.\n",
    "\n"
   ]
  },
  {
   "cell_type": "markdown",
   "metadata": {
    "slideshow": {
     "slide_type": "subslide"
    }
   },
   "source": [
    "#### Linearization\n",
    "\n",
    "A classic method is to study the linearized system in $ 0 $:\n",
    "\n",
    "\\begin{align*}\n",
    "  \\dot x(t) = J_f(0)\\,x(t)\\,,\\ t\\geq 0\\,,\\ x(0)=x_{0}\n",
    "\\end{align*}\n",
    "\n",
    "where $ J_f (x) $ is the Jacobian matrix of $ f $ in $ x $:\n",
    "\n",
    "\n",
    "\\begin{align*}\n",
    "J_f(x)\n",
    "   :=\n",
    "   \\left(\\begin{matrix}\n",
    "      \\partial f_{1}(x)/\\partial x_{1} & \n",
    "      \\partial f_{1}(x)/\\partial x_{2} &\n",
    "      \\cdots & \n",
    "      \\partial f_{1}(x)/\\partial x_{d} & \n",
    "   \\\\\n",
    "      \\partial f_{2}(x)/\\partial x_{1} & \n",
    "      \\partial f_{2}(x)/\\partial x_{2} &\n",
    "      \\cdots & \n",
    "      \\partial f_{2}(x)/\\partial x_{d} & \n",
    "   \\\\\n",
    "      \\vdots  & \n",
    "      \\vdots &\n",
    "       & \n",
    "      \\vdots & \n",
    "   \\\\[0.5em]\n",
    "      \\partial f_{d}(x)/\\partial x_{1} & \n",
    "      \\partial f_{d}(x)/\\partial x_{2} &\n",
    "      \\cdots & \n",
    "      \\partial f_{d}(x)/\\partial x_{d} & \n",
    "   \\end{matrix}\\right)\n",
    "\\end{align*}\n",
    "\n",
    "Then:\n",
    "- if for all $\\lambda\\in Sp(J_f(0))$ we have  $\\Re(\\lambda)<0$   then  $0$ is asymptotically stable for (EDO NL A);\n",
    "- if it exists  $\\lambda\\in Sp(J_f(0))$  st  $\\Re(\\lambda)>0$ then $0$ is unstable  for (EDO NL A).\n",
    "\n",
    "If all the eigenvalues have zero real parts then $ 0 $ is stable for the linearized EDO but we can say nothing of $ 0 $ for the starting nonlinear EDO.\n"
   ]
  },
  {
   "cell_type": "markdown",
   "metadata": {
    "slideshow": {
     "slide_type": "slide"
    }
   },
   "source": [
    "---\n",
    "## Numerical approximation\n",
    "---\n"
   ]
  },
  {
   "cell_type": "markdown",
   "metadata": {
    "slideshow": {
     "slide_type": "subslide"
    }
   },
   "source": [
    "The `integrate` module of [SciPy](https://www.scipy.org) offers two tools for [digitally integrating EDOs](https://en.wikipedia.org/wiki/Numerical_methods_for_ordinary_differential_equations?oldid=550976985): `integrate.odeint` and ` integrate.ode`.\n",
    "\n",
    "- `integrate.odeint` is a function that implements ODEPACK's LSODA solver that automatically switches between an Adams prediction-correction method for non-stiff problems to a BDF method for stiff problems.\n",
    "\n",
    "- `integrate.ode` is a class that provides an object-oriented interface that gives access to multiple solvers.\n",
    "\n",
    "\n",
    "`integrate.ode` is more flexible but `integrate.odeint` is much more accessible. We will limit ourselves here to this last solver.\n",
    "The `odeint` function has 3 mandatory arguments: a function defining the right member of the EDO, ie the function $ f $, an array giving the initial condition, is an array of values of $t$'s where $ x (t ) $ must be calculated. The function on the right-hand side consists of 2 mandatory arguments, an $ x $ array and a $ t $ scalar, and optional arguments.\n",
    "\n",
    "See [[Johansson 2015 p. 223](#cite-johansson2015a)]."
   ]
  },
  {
   "cell_type": "markdown",
   "metadata": {
    "slideshow": {
     "slide_type": "subslide"
    }
   },
   "source": [
    "###  Taylor series expansion\n",
    "\n",
    "We consider a solution $ x (t) $ of (EDO) defined for $ t \\in [0, T] $ with $ t_ {0} = 0 $.\n",
    "We consider $ \\delta> 0 $, we put $ t_ {k} = k \\, \\delta $ and we consider Taylor's serie:\n",
    "\n",
    "\n",
    "\\begin{align*}\n",
    "  x(t+\\delta) = x(t) + \\delta\\,x'(t) + \\frac{\\delta^2}{2}\\,x''(t) + \\frac{\\delta^3}{3!}\\,x'''(t)+\\cdots\n",
    "\\end{align*}\n",
    "\n",
    "At oder $n$, we get:\n",
    "\n",
    "\\begin{align*}\n",
    "  x(t+\\delta) = x(t) + \\delta\\,x'(t) + \\frac{\\delta^2}{2}\\,x''(t) + \\frac{\\delta^3}{3!}\\,x'''(t)+\\cdots+\\frac{\\delta^n}{n!}\\,x^{(n)}(\\tau)\n",
    "\\end{align*}\n",
    "\n",
    "for a given $\\tau\\in[t,t+\\delta]$"
   ]
  },
  {
   "cell_type": "markdown",
   "metadata": {
    "slideshow": {
     "slide_type": "subslide"
    }
   },
   "source": [
    "### Euler approximation\n",
    "\n",
    "The Euler approximation of $ x (t) $ consists of truncating to order 1:\n",
    "\n",
    "\\begin{align*}\n",
    "  x(t+\\delta) = x(t) + \\delta\\,x'(t) +\\frac{\\delta^2}{2}\\,x^{''}(\\tau)\n",
    "\\end{align*}\n",
    "\n",
    "so\n",
    "\n",
    "\\begin{align*}\n",
    "  x(t+\\delta) = x(t) + \\delta\\,f(t,x(t)) + O(\\delta^2)\n",
    "\\end{align*}\n",
    "\n",
    "(order 1: local error in $ O (\\ delta ^ 2) $, global error in $ O (\\ delta) $)\n",
    "\n",
    "\n",
    "<img src=\"./images/er_euler.png\" alt=\"Schema d'Euler\" style=\"width: 200px;\"/>\n",
    "\n",
    "\n"
   ]
  },
  {
   "cell_type": "markdown",
   "metadata": {
    "slideshow": {
     "slide_type": "subslide"
    }
   },
   "source": [
    "We get the approximaton:\n",
    "\\begin{align*}\n",
    "   \\tilde x_{k+1}  = \\tilde x_k+\\delta\\,f(t_{k},\\tilde x_k)\n",
    "\\end{align*}\n",
    "\n",
    "$ \\delta $ is the step of the approximation, we define $ \\tilde x (t) $ as the linear interpolate of the points $ \\tilde x_k $.\n",
    "\n",
    "\n",
    "<img src=\"./images/euler_erreur.png\" alt=\"Schema d'Euler\" style=\"width: 500px;\"/>"
   ]
  },
  {
   "cell_type": "markdown",
   "metadata": {
    "slideshow": {
     "slide_type": "subslide"
    }
   },
   "source": [
    "### Approximation of Runge-Kutta\n",
    "\n",
    "\n",
    "This method uses the Euler method using an approximation of the derivative at the midpoint. Taylor's expansion of order 3 gives:\n",
    "\n",
    "\\begin{align*}\n",
    "  x(t+\\delta) = x(t) + \\delta\\,x'(t) + \\frac{\\delta^2}{2}\\,x''(t) + \\frac{\\delta^3}{3!}\\,x'''(\\tau)\n",
    "\\end{align*}\n",
    "\n",
    "but\n",
    "\n",
    "$$\n",
    "x'(t+\\delta/2) = x'(t)+ \\frac{\\delta}{2}\\,x''(t)+O(\\delta^2)\n",
    "$$\n",
    "\n",
    "so \n",
    "\n",
    "$$\n",
    "\\frac{\\delta^2}{2}\\,x''(t)= \\delta[x'(t+\\delta/2) - x'(t)]  +O(\\delta^3)\n",
    "$$ \n",
    "\n",
    "and\n",
    "\n",
    "\\begin{align*}\n",
    "  x(t+\\delta) \n",
    "  &= x(t) + \\delta x'(t) + \\frac{\\delta^2}{2}\\,\\frac{x'(t+\\delta/2)-x'(t)}{\\delta/2} + O(\\delta^3)\n",
    "  \\\\\n",
    "  &= x(t) + \\delta  x'(t+\\delta/2)  + O(\\delta^3)\n",
    "  \\\\\n",
    "  &= x(t) + \\delta  f(t+\\delta/2,x(t+\\delta/2))  + O(\\delta^3)\n",
    "  \\\\\n",
    "  &= x(t) + \\delta  f\\big(t+\\delta/2,x(t)+(\\delta/2)\\,f(t,x(t))\\big)  + O(\\delta^3)\n",
    "\\end{align*}\n",
    "\n",
    "\n",
    "\n",
    "<img src=\"./images/er_rk2.png\" alt=\"Schema RK2\" style=\"width: 200px;\"/>\n",
    "\n",
    "it is therefore a scheme of order 2:\n",
    "\n",
    "\\begin{align*}\n",
    "   \\tilde x_{k+1}   = \n",
    "   \\tilde x_k+\\delta\\,f\\Big(t_{k}+\\frac{\\delta}{2},\\tilde x_k+\\frac{\\delta}{2}\\,f(t_k,\\tilde x_k)\\Big)\n",
    "\\end{align*}"
   ]
  },
  {
   "cell_type": "code",
   "execution_count": 2,
   "metadata": {
    "slideshow": {
     "slide_type": "subslide"
    }
   },
   "outputs": [
    {
     "data": {
      "image/png": "[encoded data removed]",
      "text/plain": [
       "<matplotlib.figure.Figure at 0x1085216a0>"
      ]
     },
     "metadata": {},
     "output_type": "display_data"
    }
   ],
   "source": [
    "import numpy as np\n",
    "import matplotlib.pyplot as plt\n",
    "\n",
    "def euler( f, x0, t ):\n",
    "    n = len( t )\n",
    "    x = np.array( [x0] * n )\n",
    "    for i in range(n-1):\n",
    "        x[i+1] = x[i] + ( t[i+1] - t[i] ) * f( x[i], t[i] )\n",
    "    return x\n",
    "\n",
    "def rk2a( f, x0, t ):\n",
    "    n = len( t )\n",
    "    x = np.array( [ x0 ] * n )\n",
    "    for i in range( n - 1 ):\n",
    "        h = t[i+1] - t[i]\n",
    "        k1 = 0.5 * h * f( x[i], t[i] ) \n",
    "        x[i+1] = x[i] + h * f( x[i] + k1, t[i] + 0.5 * h  )\n",
    "    return x\n",
    "\n",
    "def f( x, t ):\n",
    "    return x * np.sin( t )\n",
    "\n",
    "x0, T =  -1., 10.0\n",
    "n = 51\n",
    "t = np.linspace( 0, T, n )\n",
    "t2 = np.linspace( 0, T, 2*n )\n",
    "\n",
    "x = -np.exp( 1.0 - np.cos( t ) )\n",
    "x_euler = euler( f, x0, t )\n",
    "x_euler2 = euler( f, x0, t2 )\n",
    "x_rk2 = rk2a( f, x0, t )\n",
    "\n",
    "plt.plot(t,x,label=r'$x(t)$')\n",
    "plt.plot(t,x_euler,label='Euler',linestyle='--')\n",
    "plt.plot(t2,x_euler2,label=r'Euler $\\delta/2$',linestyle='--')\n",
    "plt.plot(t,x_rk2,label='RK2',linestyle='--')\n",
    "plt.legend()\n",
    "plt.show()\n"
   ]
  },
  {
   "cell_type": "markdown",
   "metadata": {
    "slideshow": {
     "slide_type": "subslide"
    }
   },
   "source": [
    "### Case of linear EDOs\n",
    "\n",
    "Calculating the fundametal solution is a **very** bad idea. [[Hairer et al 1993 p. 64](#cite-ErnstHairer1993a)]"
   ]
  },
  {
   "cell_type": "markdown",
   "metadata": {
    "slideshow": {
     "slide_type": "skip"
    }
   },
   "source": [
    "<!--bibtex\n",
    "\n",
    "@book{agarwal2008a,\n",
    "\tAuthor = {R.P. Agarwal and D. O'Regan},\n",
    "\tPublisher = {Springer},\n",
    "\tTitle = {An introduction to ordinary differential equations},\n",
    "\tYear = {2008}}\n",
    "\n",
    " \n",
    "@book{benzoni2010a,\n",
    "\tAuthor = {Sylvie Benzoni-Gavage},\n",
    "\tPublisher = {Dunod},\n",
    "\tTitle = {Calcul diff{\\'e}rentiel et équations diff{\\'e}rentielles},\n",
    "\tYear = {2010}}\n",
    "\n",
    "@book{boularas2009a,\n",
    "\tAuthor = {Driss Boularas and Daniel Fredon and Daniel Petit},\n",
    "\tPublisher = {Dunod},\n",
    "\tTitle = {Mini Manuel de Mathématiques pour les sciences de la vie et de l'environnement},\n",
    "\tYear = {2009}}\n",
    "\n",
    "@book{demailly2006a,\n",
    "\tAuthor = {Demailly, J.P.},\n",
    "\tOpturl = {http://books.google.fr/books?id=2yTLzzm3N6kC},\n",
    "\tPublisher = {EDP Sciences},\n",
    "\tTitle = {Analyse num{\\'e}rique et équations fiff{\\'e}rentielles},\n",
    "\tYear = {2006}}\n",
    "    \n",
    "@book{ErnstHairer1993a,\n",
    "\tAuthor = {E. Hairer and S. P. N{\\o}rsett and G. Wanner},\n",
    "\tEdition = {Second},\n",
    "\tPublisher = {Springer},\n",
    "\tTitle = {Solving Ordinary Differential Equations I : Nonstiff Problems},\n",
    "\tYear = {1993}}\n",
    "\n",
    "\n",
    "@book{jeffrey2010a,\n",
    "\tAuthor = {Alan Jeffrey},\n",
    "\tPublisher = {Springer Netherlands},\n",
    "\tTitle = {Matrix Operations for Engineers and Scientists: An Essential Guide in Linear Algebra},\n",
    "\tYear = {2010}}\n",
    "\n",
    "\n",
    "@book{johansson2015a,\n",
    "\tAuthor = {Robert Johansson},\n",
    "\tPublisher = {Apress},\n",
    "\tTitle = {Numerical Python. A Practical Techniques Approach for Industry},\n",
    "\tYear = {2015}}\n",
    "    \n",
    "    \n",
    "\n",
    "\n",
    "\n",
    "\n",
    "-->"
   ]
  },
  {
   "cell_type": "markdown",
   "metadata": {
    "slideshow": {
     "slide_type": "slide"
    }
   },
   "source": [
    "# References\n",
    "\n",
    "<a name=\"cite-agarwal2008a\"/><sup>[^](#ref-4) [^](#ref-6) [^](#ref-8) </sup>R.P. Agarwal and D. O'Regan. 2008. _An introduction to ordinary differential equations_.\n",
    "\n",
    "<a name=\"cite-jeffrey2010a\"/><sup>[^](#ref-7) </sup>Alan Jeffrey. 2010. _Matrix Operations for Engineers and Scientists: An Essential Guide in Linear Algebra_.\n",
    "\n",
    "<a name=\"cite-johansson2015a\"/><sup>[^](#ref-9) </sup>Robert Johansson. 2015. _Numerical Python. A Practical Techniques Approach for Industry_.\n",
    "\n",
    "<a name=\"cite-ErnstHairer1993a\"/><sup>[^](#ref-10) </sup>E. Hairer and S. P. N\\orsett and G. Wanner. 1993. _Solving Ordinary Differential Equations I : Nonstiff Problems_.\n",
    "\n"
   ]
  },
  {
   "cell_type": "markdown",
   "metadata": {
    "collapsed": true
   },
   "source": [
    "\n"
   ]
  }
 ],
 "metadata": {
  "anaconda-cloud": {},
  "celltoolbar": "Slideshow",
  "kernelspec": {
   "display_name": "Python 3",
   "language": "python",
   "name": "python3"
  },
  "language_info": {
   "codemirror_mode": {
    "name": "ipython",
    "version": 3
   },
   "file_extension": ".py",
   "mimetype": "text/x-python",
   "name": "python",
   "nbconvert_exporter": "python",
   "pygments_lexer": "ipython3",
   "version": "3.7.3"
  },
  "latex_envs": {
   "LaTeX_envs_menu_present": true,
   "autocomplete": true,
   "bibliofile": "biblio.bib",
   "cite_by": "apalike",
   "current_citInitial": 1,
   "eqLabelWithNumbers": true,
   "eqNumInitial": 1,
   "hotkeys": {
    "equation": "Ctrl-E",
    "itemize": "Ctrl-I"
   },
   "labels_anchors": false,
   "latex_user_defs": false,
   "report_style_numbering": false,
   "user_envs_cfg": false
  },
  "nbpresent": {
   "slides": {
    "2370c56b-61f1-404c-af0f-84176bc33cff": {
     "id": "2370c56b-61f1-404c-af0f-84176bc33cff",
     "prev": "7f712783-530e-4ce2-877c-8e9a465e992a",
     "regions": {
      "2fa00e09-8012-4978-86ca-177a886cc672": {
       "attrs": {
        "height": 0.8,
        "width": 0.8,
        "x": 0.1,
        "y": 0.1
       },
       "content": {
        "cell": "fb0bd62c-c76b-4387-a64e-21049cbfc11a",
        "part": "whole"
       },
       "id": "2fa00e09-8012-4978-86ca-177a886cc672"
      }
     }
    },
    "3745cb09-8bfb-46c4-9f28-09cca6df92e9": {
     "id": "3745cb09-8bfb-46c4-9f28-09cca6df92e9",
     "prev": "2370c56b-61f1-404c-af0f-84176bc33cff",
     "regions": {
      "ed03c2f3-604e-481e-aeb1-10c05f38efec": {
       "attrs": {
        "height": 0.8,
        "width": 0.8,
        "x": 0.1,
        "y": 0.1
       },
       "content": {
        "cell": "20ac6e31-554f-4c02-a4f2-a4ab6aa70189",
        "part": "whole"
       },
       "id": "ed03c2f3-604e-481e-aeb1-10c05f38efec"
      }
     }
    },
    "4b353193-8407-43e4-97e3-9521567f2f8c": {
     "id": "4b353193-8407-43e4-97e3-9521567f2f8c",
     "prev": null,
     "regions": {
      "9c442883-364e-47f7-8b98-6ad200b042d2": {
       "attrs": {
        "height": 0.8,
        "width": 0.8,
        "x": 0.1,
        "y": 0.1
       },
       "content": {
        "cell": "d038ae08-ee50-4ad2-9aa5-3dc09b3cb033",
        "part": "whole"
       },
       "id": "9c442883-364e-47f7-8b98-6ad200b042d2"
      }
     }
    },
    "7f712783-530e-4ce2-877c-8e9a465e992a": {
     "id": "7f712783-530e-4ce2-877c-8e9a465e992a",
     "prev": "4b353193-8407-43e4-97e3-9521567f2f8c",
     "regions": {
      "72edcf47-fb69-45dd-8444-08d2b40e4d28": {
       "attrs": {
        "height": 0.8,
        "width": 0.8,
        "x": 0.1,
        "y": 0.1
       },
       "content": {
        "cell": "9465da87-3279-4417-aaa7-f66e7f568c1b",
        "part": "whole"
       },
       "id": "72edcf47-fb69-45dd-8444-08d2b40e4d28"
      }
     }
    },
    "a4990c21-44c2-4634-8518-934edff8e434": {
     "id": "a4990c21-44c2-4634-8518-934edff8e434",
     "prev": "3745cb09-8bfb-46c4-9f28-09cca6df92e9",
     "regions": {
      "a8361832-346e-4814-9bd0-076f589af4d4": {
       "attrs": {
        "height": 0.8,
        "width": 0.8,
        "x": 0.1,
        "y": 0.1
       },
       "content": {
        "cell": "e129dde5-54aa-4ea4-94ce-1f9d1e7ad431",
        "part": "whole"
       },
       "id": "a8361832-346e-4814-9bd0-076f589af4d4"
      }
     }
    }
   },
   "themes": {}
  }
 },
 "nbformat": 4,
 "nbformat_minor": 1
}
